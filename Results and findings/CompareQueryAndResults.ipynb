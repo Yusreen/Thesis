{
 "cells": [
  {
   "cell_type": "markdown",
   "id": "77d46a06",
   "metadata": {},
   "source": [
    "## This script is used to compare the results from all 3 software\n",
    "## Written by Yusreen Shah\n",
    "## Date: May 10th 2023"
   ]
  },
  {
   "cell_type": "code",
   "execution_count": 8,
   "id": "c06b931c",
   "metadata": {},
   "outputs": [],
   "source": [
    "# import the libraries\n",
    "import numpy as np\n",
    "import pandas as pd\n",
    "import re \n",
    "from Bio import SeqIO\n",
    "from collections import defaultdict\n"
   ]
  },
  {
   "cell_type": "markdown",
   "id": "3efc860c",
   "metadata": {},
   "source": [
    "## This section saves the list of all the queries in a dataframe"
   ]
  },
  {
   "cell_type": "code",
   "execution_count": 10,
   "id": "159e546a",
   "metadata": {},
   "outputs": [],
   "source": [
    "# Save the data\n",
    "data = defaultdict(list)\n",
    "\n",
    "# Read the values from the .fasta file, and save them to data\n",
    "for seq_record in SeqIO.parse(\"combined_1.fasta\", \"fasta\"):\n",
    "    query=seq_record.id\n",
    "    sequence= repr(seq_record.seq)\n",
    "    length=len(seq_record)\n",
    "    data['Query'].append(query)\n",
    "    data['Sequence'].append(sequence)\n",
    "    data['Length'].append(length)\n",
    "    \n",
    "# Add the data to a dataframe\n",
    "df = pd.DataFrame.from_dict(data)\n"
   ]
  },
  {
   "cell_type": "code",
   "execution_count": 11,
   "id": "50206236",
   "metadata": {},
   "outputs": [],
   "source": [
    "# Remove Seq(' and ') from the sequences\n",
    "df['Sequence'] = df['Sequence'].str.replace('Seq(''', '')\n",
    "df['Sequence'] = df['Sequence'].str.replace(')', '')\n",
    "df['Sequence'] = df['Sequence'].str.strip(\" \\' \")\n",
    "df['Sequence']=df['Sequence'].str.rstrip()"
   ]
  },
  {
   "cell_type": "code",
   "execution_count": 4,
   "id": "63ada142",
   "metadata": {},
   "outputs": [
    {
     "data": {
      "text/html": [
       "<div>\n",
       "<style scoped>\n",
       "    .dataframe tbody tr th:only-of-type {\n",
       "        vertical-align: middle;\n",
       "    }\n",
       "\n",
       "    .dataframe tbody tr th {\n",
       "        vertical-align: top;\n",
       "    }\n",
       "\n",
       "    .dataframe thead th {\n",
       "        text-align: right;\n",
       "    }\n",
       "</style>\n",
       "<table border=\"1\" class=\"dataframe\">\n",
       "  <thead>\n",
       "    <tr style=\"text-align: right;\">\n",
       "      <th></th>\n",
       "      <th>Query</th>\n",
       "      <th>Sequence</th>\n",
       "      <th>Length</th>\n",
       "    </tr>\n",
       "  </thead>\n",
       "  <tbody>\n",
       "    <tr>\n",
       "      <th>0</th>\n",
       "      <td>gb|FJ503047|+|0-519|ARO:3002592|AAC(6')-Ib-Han...</td>\n",
       "      <td>ATGACTGAGCATGACCTTGTGATGCTCTATGAGTGGCTAAATCGAT...</td>\n",
       "      <td>519</td>\n",
       "    </tr>\n",
       "    <tr>\n",
       "      <th>1</th>\n",
       "      <td>gb|EU085533|+|0-519|ARO:3002591|AAC(6')-Ib-Suzhou</td>\n",
       "      <td>ATGACTGAGCATGACCTTGCGATGCTCTATGAGTGGCTAAATCGAT...</td>\n",
       "      <td>519</td>\n",
       "    </tr>\n",
       "    <tr>\n",
       "      <th>2</th>\n",
       "      <td>gb|DQ303918|+|0-600|ARO:3002547|AAC(6')-Ib-cr</td>\n",
       "      <td>ATGAGCAACGCAAAAACAAAGTTAGGCATCACAAAGTACAGCATCG...</td>\n",
       "      <td>600</td>\n",
       "    </tr>\n",
       "    <tr>\n",
       "      <th>3</th>\n",
       "      <td>gb|JQ808129|+|633-1188|ARO:3002546|AAC(6')-Ib</td>\n",
       "      <td>GTGACCAACAGCAACGATTCCGTAACACTGCGCCTCATGACTGAGC...</td>\n",
       "      <td>555</td>\n",
       "    </tr>\n",
       "    <tr>\n",
       "      <th>4</th>\n",
       "      <td>gb|U59183|+|247-859|ARO:3002581|AAC(6')-Ib10</td>\n",
       "      <td>ATGTTACGCAGCAGCAGTCGCCCTAAAACAAAGTTAGGCATCACAA...</td>\n",
       "      <td>612</td>\n",
       "    </tr>\n",
       "  </tbody>\n",
       "</table>\n",
       "</div>"
      ],
      "text/plain": [
       "                                               Query   \n",
       "0  gb|FJ503047|+|0-519|ARO:3002592|AAC(6')-Ib-Han...  \\\n",
       "1  gb|EU085533|+|0-519|ARO:3002591|AAC(6')-Ib-Suzhou   \n",
       "2      gb|DQ303918|+|0-600|ARO:3002547|AAC(6')-Ib-cr   \n",
       "3      gb|JQ808129|+|633-1188|ARO:3002546|AAC(6')-Ib   \n",
       "4       gb|U59183|+|247-859|ARO:3002581|AAC(6')-Ib10   \n",
       "\n",
       "                                            Sequence  Length  \n",
       "0  ATGACTGAGCATGACCTTGTGATGCTCTATGAGTGGCTAAATCGAT...     519  \n",
       "1  ATGACTGAGCATGACCTTGCGATGCTCTATGAGTGGCTAAATCGAT...     519  \n",
       "2  ATGAGCAACGCAAAAACAAAGTTAGGCATCACAAAGTACAGCATCG...     600  \n",
       "3  GTGACCAACAGCAACGATTCCGTAACACTGCGCCTCATGACTGAGC...     555  \n",
       "4  ATGTTACGCAGCAGCAGTCGCCCTAAAACAAAGTTAGGCATCACAA...     612  "
      ]
     },
     "execution_count": 4,
     "metadata": {},
     "output_type": "execute_result"
    }
   ],
   "source": [
    "df.head()"
   ]
  },
  {
   "cell_type": "markdown",
   "id": "9c80d54e",
   "metadata": {},
   "source": [
    "## This section is used to compare the results from Bandage and the actual list of queries."
   ]
  },
  {
   "cell_type": "code",
   "execution_count": 5,
   "id": "2277abe3",
   "metadata": {},
   "outputs": [],
   "source": [
    "#Create a dataframe for Bandage Combined1\n",
    "Bandage_Combined1= pd.read_csv('Bandageoutputcombined1.tsv', sep='\\t')"
   ]
  },
  {
   "cell_type": "code",
   "execution_count": 6,
   "id": "848b5008",
   "metadata": {},
   "outputs": [
    {
     "data": {
      "text/html": [
       "<div>\n",
       "<style scoped>\n",
       "    .dataframe tbody tr th:only-of-type {\n",
       "        vertical-align: middle;\n",
       "    }\n",
       "\n",
       "    .dataframe tbody tr th {\n",
       "        vertical-align: top;\n",
       "    }\n",
       "\n",
       "    .dataframe thead th {\n",
       "        text-align: right;\n",
       "    }\n",
       "</style>\n",
       "<table border=\"1\" class=\"dataframe\">\n",
       "  <thead>\n",
       "    <tr style=\"text-align: right;\">\n",
       "      <th></th>\n",
       "      <th>Query</th>\n",
       "      <th>Path</th>\n",
       "      <th>Length</th>\n",
       "      <th>Query covered by path</th>\n",
       "      <th>Query covered by hits</th>\n",
       "      <th>Mean hit identity</th>\n",
       "      <th>Total hit mismatches</th>\n",
       "      <th>Total hit gap opens</th>\n",
       "      <th>Relative length</th>\n",
       "      <th>Length discrepancy</th>\n",
       "      <th>E-value product</th>\n",
       "      <th>Sequence</th>\n",
       "    </tr>\n",
       "  </thead>\n",
       "  <tbody>\n",
       "    <tr>\n",
       "      <th>0</th>\n",
       "      <td>gb|U59183|+|247-859|ARO:3002581|AAC(6')-Ib10</td>\n",
       "      <td>(56) 7593+ (642)</td>\n",
       "      <td>587</td>\n",
       "      <td>95.915%</td>\n",
       "      <td>95.915%</td>\n",
       "      <td>99.83%</td>\n",
       "      <td>1</td>\n",
       "      <td>0</td>\n",
       "      <td>100%</td>\n",
       "      <td>0</td>\n",
       "      <td>0</td>\n",
       "      <td>AAACAAAGTTAGGCATCACAAAGTACAGCATCGTGACCAACAGCAA...</td>\n",
       "    </tr>\n",
       "    <tr>\n",
       "      <th>1</th>\n",
       "      <td>gb|AY136758|+|377-947|ARO:3002582|AAC(6')-Ib11</td>\n",
       "      <td>(93) 7593+ (642)</td>\n",
       "      <td>550</td>\n",
       "      <td>96.4912%</td>\n",
       "      <td>96.4912%</td>\n",
       "      <td>99.455%</td>\n",
       "      <td>3</td>\n",
       "      <td>0</td>\n",
       "      <td>100%</td>\n",
       "      <td>0</td>\n",
       "      <td>0</td>\n",
       "      <td>CAACAGCAACGATTCCGTCACACTGCGCCTCATGACTGAGCATGAC...</td>\n",
       "    </tr>\n",
       "    <tr>\n",
       "      <th>2</th>\n",
       "      <td>gb|FJ854362|+|1702-2257|ARO:3002576|AAC(6')-Ib3</td>\n",
       "      <td>(88) 7593+ (642)</td>\n",
       "      <td>555</td>\n",
       "      <td>100%</td>\n",
       "      <td>100%</td>\n",
       "      <td>99.64%</td>\n",
       "      <td>2</td>\n",
       "      <td>0</td>\n",
       "      <td>100%</td>\n",
       "      <td>0</td>\n",
       "      <td>0</td>\n",
       "      <td>GTGACCAACAGCAACGATTCCGTCACACTGCGCCTCATGACTGAGC...</td>\n",
       "    </tr>\n",
       "    <tr>\n",
       "      <th>3</th>\n",
       "      <td>gb|AF445082|+|2788-3343|ARO:3002577|AAC(6')-Ib4</td>\n",
       "      <td>(88) 7593+ (642)</td>\n",
       "      <td>555</td>\n",
       "      <td>100%</td>\n",
       "      <td>100%</td>\n",
       "      <td>99.64%</td>\n",
       "      <td>2</td>\n",
       "      <td>0</td>\n",
       "      <td>100%</td>\n",
       "      <td>0</td>\n",
       "      <td>0</td>\n",
       "      <td>GTGACCAACAGCAACGATTCCGTCACACTGCGCCTCATGACTGAGC...</td>\n",
       "    </tr>\n",
       "    <tr>\n",
       "      <th>4</th>\n",
       "      <td>gb|AF043381|+|251-863|ARO:3002580|AAC(6')-Ib9</td>\n",
       "      <td>(56) 7593+ (642)</td>\n",
       "      <td>587</td>\n",
       "      <td>95.915%</td>\n",
       "      <td>95.915%</td>\n",
       "      <td>99.659%</td>\n",
       "      <td>2</td>\n",
       "      <td>0</td>\n",
       "      <td>100%</td>\n",
       "      <td>0</td>\n",
       "      <td>0</td>\n",
       "      <td>AAACAAAGTTAGGCATCACAAAGTACAGCATCGTGACCAACAGCAA...</td>\n",
       "    </tr>\n",
       "  </tbody>\n",
       "</table>\n",
       "</div>"
      ],
      "text/plain": [
       "                                             Query              Path  Length   \n",
       "0     gb|U59183|+|247-859|ARO:3002581|AAC(6')-Ib10  (56) 7593+ (642)     587  \\\n",
       "1   gb|AY136758|+|377-947|ARO:3002582|AAC(6')-Ib11  (93) 7593+ (642)     550   \n",
       "2  gb|FJ854362|+|1702-2257|ARO:3002576|AAC(6')-Ib3  (88) 7593+ (642)     555   \n",
       "3  gb|AF445082|+|2788-3343|ARO:3002577|AAC(6')-Ib4  (88) 7593+ (642)     555   \n",
       "4    gb|AF043381|+|251-863|ARO:3002580|AAC(6')-Ib9  (56) 7593+ (642)     587   \n",
       "\n",
       "  Query covered by path Query covered by hits Mean hit identity   \n",
       "0               95.915%               95.915%            99.83%  \\\n",
       "1              96.4912%              96.4912%           99.455%   \n",
       "2                  100%                  100%            99.64%   \n",
       "3                  100%                  100%            99.64%   \n",
       "4               95.915%               95.915%           99.659%   \n",
       "\n",
       "   Total hit mismatches  Total hit gap opens Relative length   \n",
       "0                     1                    0            100%  \\\n",
       "1                     3                    0            100%   \n",
       "2                     2                    0            100%   \n",
       "3                     2                    0            100%   \n",
       "4                     2                    0            100%   \n",
       "\n",
       "   Length discrepancy  E-value product   \n",
       "0                   0                0  \\\n",
       "1                   0                0   \n",
       "2                   0                0   \n",
       "3                   0                0   \n",
       "4                   0                0   \n",
       "\n",
       "                                            Sequence  \n",
       "0  AAACAAAGTTAGGCATCACAAAGTACAGCATCGTGACCAACAGCAA...  \n",
       "1  CAACAGCAACGATTCCGTCACACTGCGCCTCATGACTGAGCATGAC...  \n",
       "2  GTGACCAACAGCAACGATTCCGTCACACTGCGCCTCATGACTGAGC...  \n",
       "3  GTGACCAACAGCAACGATTCCGTCACACTGCGCCTCATGACTGAGC...  \n",
       "4  AAACAAAGTTAGGCATCACAAAGTACAGCATCGTGACCAACAGCAA...  "
      ]
     },
     "execution_count": 6,
     "metadata": {},
     "output_type": "execute_result"
    }
   ],
   "source": [
    "Bandage_Combined1.head()"
   ]
  },
  {
   "cell_type": "code",
   "execution_count": 7,
   "id": "09fa618e",
   "metadata": {},
   "outputs": [],
   "source": [
    "Bandage_Combined_Query_Path =Bandage_Combined1[['Query','Sequence']]"
   ]
  },
  {
   "cell_type": "code",
   "execution_count": 19,
   "id": "d78f084b",
   "metadata": {},
   "outputs": [],
   "source": [
    "#Use merge operation so that we have the sequences for both softwares for successful queries\n",
    "df_QueryAndResultsBandage=pd.merge(df,Bandage_Combined_Query_Path, on='Query')"
   ]
  },
  {
   "cell_type": "code",
   "execution_count": 20,
   "id": "7af66157",
   "metadata": {},
   "outputs": [
    {
     "name": "stdout",
     "output_type": "stream",
     "text": [
      "Query\n",
      "Sequence_x\n",
      "Length\n",
      "Sequence_y\n"
     ]
    }
   ],
   "source": [
    "for col in df_QueryAndResultsBandage.columns:\n",
    "    print(col)"
   ]
  },
  {
   "cell_type": "code",
   "execution_count": 21,
   "id": "b332bed3",
   "metadata": {},
   "outputs": [],
   "source": [
    "df_QueryAndResultsBandage.rename(columns = {'Sequence_x':'Sequence'}, inplace = True)\n",
    "df_QueryAndResultsBandage.rename(columns = {'Sequence_y':'Sequence_Bandage'}, inplace = True)"
   ]
  },
  {
   "cell_type": "code",
   "execution_count": 22,
   "id": "a3a008bd",
   "metadata": {},
   "outputs": [
    {
     "name": "stdout",
     "output_type": "stream",
     "text": [
      "Query\n",
      "Sequence\n",
      "Length\n",
      "Sequence_Bandage\n"
     ]
    }
   ],
   "source": [
    "for col in df_QueryAndResultsBandage.columns:\n",
    "    print(col)"
   ]
  },
  {
   "cell_type": "markdown",
   "id": "c48d86ca",
   "metadata": {},
   "source": [
    "## This section is used to compare the results from SPAligner and the actual list of queries."
   ]
  },
  {
   "cell_type": "code",
   "execution_count": 23,
   "id": "a8f2d897",
   "metadata": {},
   "outputs": [],
   "source": [
    "#Create a dataframe for SPAligner Combined1\n",
    "SPAligner_Combined1=pd.read_csv('SPAligneroutputcombined1.tsv', sep='\\t')\n",
    "#format the Query column from  SPAligner_Combined1 so that the Query column is the same as the one from Bandage\n",
    "pattern = r'\\[.*?\\]'\n",
    "def format_query(x):aa\n",
    "    return re.sub(pattern,\"\", x).rstrip()\n",
    "    \n",
    "\n",
    "\n",
    "SPAligner_Combined1['Query'] = SPAligner_Combined1['Query'].map(format_query)\n"
   ]
  },
  {
   "cell_type": "code",
   "execution_count": 24,
   "id": "fddcd3ba",
   "metadata": {},
   "outputs": [],
   "source": [
    "#Get the query and sequence column from SPAligner_Combined1\n",
    "SPAligner_Combined_Query_Path=SPAligner_Combined1[['Query','Sequence']]"
   ]
  },
  {
   "cell_type": "code",
   "execution_count": 25,
   "id": "f84c9fb1",
   "metadata": {},
   "outputs": [],
   "source": [
    "#Use merge operation so that we have the sequences for both softwares for successful queries\n",
    "df_QueryAndResultsSPAligner=pd.merge(df,SPAligner_Combined_Query_Path, on='Query')"
   ]
  },
  {
   "cell_type": "code",
   "execution_count": 26,
   "id": "5422cab3",
   "metadata": {},
   "outputs": [],
   "source": [
    "df_QueryAndResultsSPAligner.rename(columns = {'Sequence_x':'Sequence'}, inplace = True)\n",
    "df_QueryAndResultsSPAligner.rename(columns = {'Sequence_y':'Sequence_SPAligner'}, inplace = True)"
   ]
  },
  {
   "cell_type": "code",
   "execution_count": 27,
   "id": "dba84390",
   "metadata": {},
   "outputs": [],
   "source": [
    "#Create a dataframe for GraphAligner Combined1\n",
    "GraphAligner_Combined1=pd.read_csv('GraphAligneroutputcombined1.tsv', sep='\\t', names=[\"Query\", \"Query Length\", \"Query Start\", \n",
    "                                          \"Query End\",\"Strand Relative Length\",\"Path Matching\",\"Path Length\",\n",
    "                                         \"Start Position on Path\",\"End Position on Path\",\"Number of residues Matches\",\n",
    "                                         \"Alignment Back Length\",\"Mapping Quality\",\"Column 1\"])"
   ]
  },
  {
   "cell_type": "code",
   "execution_count": 28,
   "id": "86ef2600",
   "metadata": {},
   "outputs": [],
   "source": [
    "#Format the Query column from  GraphAligner_Combined1 so that the Query column is the same as the one from Bandage\n",
    "pattern = r'\\[.*?\\]'\n",
    "def format_query(x):\n",
    "    return re.sub(pattern,\"\", x).rstrip()\n",
    "    \n",
    "\n",
    "\n",
    "GraphAligner_Combined1['Query'] = GraphAligner_Combined1['Query'].map(format_query)"
   ]
  },
  {
   "cell_type": "code",
   "execution_count": 29,
   "id": "479545ff",
   "metadata": {},
   "outputs": [],
   "source": [
    "# Remove < and > from the Path\n",
    "GraphAligner_Combined1['Path Matching'] = GraphAligner_Combined1['Path Matching'].str.replace('>', \"\")\n",
    "GraphAligner_Combined1['Path Matching'] = GraphAligner_Combined1['Path Matching'].str.replace('<', \"\")"
   ]
  },
  {
   "cell_type": "markdown",
   "id": "a3c75414",
   "metadata": {},
   "source": [
    "## This section saves the Nodes and Sequences from the gfa file"
   ]
  },
  {
   "cell_type": "code",
   "execution_count": 30,
   "id": "8c464208",
   "metadata": {},
   "outputs": [],
   "source": [
    "import gfapy\n",
    "\n",
    "# Open the GFA file\n",
    "file_path = \"graph1.gfa\"\n",
    "gfa = gfapy.Gfa.from_file(file_path)\n",
    "\n",
    "num_segments = len(gfa.segments)"
   ]
  },
  {
   "cell_type": "code",
   "execution_count": 31,
   "id": "f657054a",
   "metadata": {},
   "outputs": [],
   "source": [
    "data_graph = []"
   ]
  },
  {
   "cell_type": "code",
   "execution_count": 32,
   "id": "6518ae82",
   "metadata": {},
   "outputs": [
    {
     "name": "stdout",
     "output_type": "stream",
     "text": [
      "       Name                                           Sequence\n",
      "0      1321  CGTTCCACCGGTTCTTACAGCCTGGTTACTCAGCAGCCGCTGGGTG...\n",
      "1      1323  GTGCCTTACCACCCAGCGGCTGCTGAGTAACCAGGCTGTAAGAACC...\n",
      "2      1325  GTGCCTTACCACCCAGCGGCTGCTGAGTAACCAGGCTGTAAGAACC...\n",
      "3     32989  CTTAATATGAACCATCCAACTTTATGGGGTCAGTCCAGCAGCGCCG...\n",
      "4       565  GGTTCGGCGGAGCTTACCGCGTCTTTTCGCGGTTAGCGGAGTGTGG...\n",
      "...     ...                                                ...\n",
      "2524  37173  GAACAAGGATCTAAGCTGTTTTAAGTTATGGGCAACGCAATGCACT...\n",
      "2525  24893  TCTTAAGAGAGTGCATTGCGTTGCCCATAACTTAAAACAGCTTAGA...\n",
      "2526  36779  TTTTCTCTGCAACCGAACCGGCTGTTTGTGTGAAGTGATTCACATC...\n",
      "2527   6673  CTCGGCCCGACCCGAAGCCTGCAGGGATAAGTCGAAGGGACCGCGC...\n",
      "2528  37823  CTCGGCCCGACCCGAAGCCTGCAGGGATAAGTCGAAGGGACCGCGC...\n",
      "\n",
      "[2529 rows x 2 columns]\n"
     ]
    }
   ],
   "source": [
    "# Store the name and sequence for each node from the graph\n",
    "for segment in gfa.segments:\n",
    "    data_graph.append({\"Name\": segment.name, \"Sequence\": segment.sequence})\n",
    "\n",
    "# Convert the list to a DataFrame\n",
    "df_graph = pd.DataFrame(data_graph)\n",
    "\n",
    "# Print the DataFrame\n",
    "print(df_graph)"
   ]
  },
  {
   "cell_type": "code",
   "execution_count": 12,
   "id": "055552a0",
   "metadata": {},
   "outputs": [],
   "source": [
    "#Count the number of duplicates\n",
    "#len(df_graph['Name'])-len(df_graph['Name'].drop_duplicates())"
   ]
  },
  {
   "cell_type": "code",
   "execution_count": 34,
   "id": "26405629",
   "metadata": {},
   "outputs": [
    {
     "data": {
      "text/plain": [
       "2529"
      ]
     },
     "execution_count": 34,
     "metadata": {},
     "output_type": "execute_result"
    }
   ],
   "source": [
    "num_segments"
   ]
  },
  {
   "cell_type": "code",
   "execution_count": 35,
   "id": "b832a090",
   "metadata": {},
   "outputs": [],
   "source": [
    "#Save only one copy of each row to the dataframe\n",
    "df_graph=df_graph.drop_duplicates()"
   ]
  },
  {
   "cell_type": "code",
   "execution_count": 36,
   "id": "bb6c1751",
   "metadata": {},
   "outputs": [
    {
     "data": {
      "text/html": [
       "<div>\n",
       "<style scoped>\n",
       "    .dataframe tbody tr th:only-of-type {\n",
       "        vertical-align: middle;\n",
       "    }\n",
       "\n",
       "    .dataframe tbody tr th {\n",
       "        vertical-align: top;\n",
       "    }\n",
       "\n",
       "    .dataframe thead th {\n",
       "        text-align: right;\n",
       "    }\n",
       "</style>\n",
       "<table border=\"1\" class=\"dataframe\">\n",
       "  <thead>\n",
       "    <tr style=\"text-align: right;\">\n",
       "      <th></th>\n",
       "      <th>Name</th>\n",
       "      <th>Sequence</th>\n",
       "    </tr>\n",
       "  </thead>\n",
       "  <tbody>\n",
       "    <tr>\n",
       "      <th>0</th>\n",
       "      <td>1321</td>\n",
       "      <td>CGTTCCACCGGTTCTTACAGCCTGGTTACTCAGCAGCCGCTGGGTG...</td>\n",
       "    </tr>\n",
       "    <tr>\n",
       "      <th>1</th>\n",
       "      <td>1323</td>\n",
       "      <td>GTGCCTTACCACCCAGCGGCTGCTGAGTAACCAGGCTGTAAGAACC...</td>\n",
       "    </tr>\n",
       "    <tr>\n",
       "      <th>2</th>\n",
       "      <td>1325</td>\n",
       "      <td>GTGCCTTACCACCCAGCGGCTGCTGAGTAACCAGGCTGTAAGAACC...</td>\n",
       "    </tr>\n",
       "    <tr>\n",
       "      <th>3</th>\n",
       "      <td>32989</td>\n",
       "      <td>CTTAATATGAACCATCCAACTTTATGGGGTCAGTCCAGCAGCGCCG...</td>\n",
       "    </tr>\n",
       "    <tr>\n",
       "      <th>4</th>\n",
       "      <td>565</td>\n",
       "      <td>GGTTCGGCGGAGCTTACCGCGTCTTTTCGCGGTTAGCGGAGTGTGG...</td>\n",
       "    </tr>\n",
       "    <tr>\n",
       "      <th>...</th>\n",
       "      <td>...</td>\n",
       "      <td>...</td>\n",
       "    </tr>\n",
       "    <tr>\n",
       "      <th>2524</th>\n",
       "      <td>37173</td>\n",
       "      <td>GAACAAGGATCTAAGCTGTTTTAAGTTATGGGCAACGCAATGCACT...</td>\n",
       "    </tr>\n",
       "    <tr>\n",
       "      <th>2525</th>\n",
       "      <td>24893</td>\n",
       "      <td>TCTTAAGAGAGTGCATTGCGTTGCCCATAACTTAAAACAGCTTAGA...</td>\n",
       "    </tr>\n",
       "    <tr>\n",
       "      <th>2526</th>\n",
       "      <td>36779</td>\n",
       "      <td>TTTTCTCTGCAACCGAACCGGCTGTTTGTGTGAAGTGATTCACATC...</td>\n",
       "    </tr>\n",
       "    <tr>\n",
       "      <th>2527</th>\n",
       "      <td>6673</td>\n",
       "      <td>CTCGGCCCGACCCGAAGCCTGCAGGGATAAGTCGAAGGGACCGCGC...</td>\n",
       "    </tr>\n",
       "    <tr>\n",
       "      <th>2528</th>\n",
       "      <td>37823</td>\n",
       "      <td>CTCGGCCCGACCCGAAGCCTGCAGGGATAAGTCGAAGGGACCGCGC...</td>\n",
       "    </tr>\n",
       "  </tbody>\n",
       "</table>\n",
       "<p>2529 rows × 2 columns</p>\n",
       "</div>"
      ],
      "text/plain": [
       "       Name                                           Sequence\n",
       "0      1321  CGTTCCACCGGTTCTTACAGCCTGGTTACTCAGCAGCCGCTGGGTG...\n",
       "1      1323  GTGCCTTACCACCCAGCGGCTGCTGAGTAACCAGGCTGTAAGAACC...\n",
       "2      1325  GTGCCTTACCACCCAGCGGCTGCTGAGTAACCAGGCTGTAAGAACC...\n",
       "3     32989  CTTAATATGAACCATCCAACTTTATGGGGTCAGTCCAGCAGCGCCG...\n",
       "4       565  GGTTCGGCGGAGCTTACCGCGTCTTTTCGCGGTTAGCGGAGTGTGG...\n",
       "...     ...                                                ...\n",
       "2524  37173  GAACAAGGATCTAAGCTGTTTTAAGTTATGGGCAACGCAATGCACT...\n",
       "2525  24893  TCTTAAGAGAGTGCATTGCGTTGCCCATAACTTAAAACAGCTTAGA...\n",
       "2526  36779  TTTTCTCTGCAACCGAACCGGCTGTTTGTGTGAAGTGATTCACATC...\n",
       "2527   6673  CTCGGCCCGACCCGAAGCCTGCAGGGATAAGTCGAAGGGACCGCGC...\n",
       "2528  37823  CTCGGCCCGACCCGAAGCCTGCAGGGATAAGTCGAAGGGACCGCGC...\n",
       "\n",
       "[2529 rows x 2 columns]"
      ]
     },
     "execution_count": 36,
     "metadata": {},
     "output_type": "execute_result"
    }
   ],
   "source": [
    "df_graph"
   ]
  },
  {
   "cell_type": "code",
   "execution_count": 37,
   "id": "3548d34b",
   "metadata": {},
   "outputs": [
    {
     "data": {
      "text/html": [
       "<div>\n",
       "<style scoped>\n",
       "    .dataframe tbody tr th:only-of-type {\n",
       "        vertical-align: middle;\n",
       "    }\n",
       "\n",
       "    .dataframe tbody tr th {\n",
       "        vertical-align: top;\n",
       "    }\n",
       "\n",
       "    .dataframe thead th {\n",
       "        text-align: right;\n",
       "    }\n",
       "</style>\n",
       "<table border=\"1\" class=\"dataframe\">\n",
       "  <thead>\n",
       "    <tr style=\"text-align: right;\">\n",
       "      <th></th>\n",
       "      <th>Name</th>\n",
       "      <th>Sequence</th>\n",
       "    </tr>\n",
       "  </thead>\n",
       "  <tbody>\n",
       "    <tr>\n",
       "      <th>801</th>\n",
       "      <td>7593</td>\n",
       "      <td>TGATAAATGCTTCAATAATATTGAAAAAGGAAGAGTATGAGTATTC...</td>\n",
       "    </tr>\n",
       "  </tbody>\n",
       "</table>\n",
       "</div>"
      ],
      "text/plain": [
       "     Name                                           Sequence\n",
       "801  7593  TGATAAATGCTTCAATAATATTGAAAAAGGAAGAGTATGAGTATTC..."
      ]
     },
     "execution_count": 37,
     "metadata": {},
     "output_type": "execute_result"
    }
   ],
   "source": [
    "df_graph.loc[df_graph['Name'] == '7593']"
   ]
  },
  {
   "cell_type": "markdown",
   "id": "6d2eab45",
   "metadata": {},
   "source": []
  },
  {
   "cell_type": "code",
   "execution_count": null,
   "id": "864e9527",
   "metadata": {},
   "outputs": [],
   "source": []
  }
 ],
 "metadata": {
  "kernelspec": {
   "display_name": "Python 3 (ipykernel)",
   "language": "python",
   "name": "python3"
  },
  "language_info": {
   "codemirror_mode": {
    "name": "ipython",
    "version": 3
   },
   "file_extension": ".py",
   "mimetype": "text/x-python",
   "name": "python",
   "nbconvert_exporter": "python",
   "pygments_lexer": "ipython3",
   "version": "3.10.9"
  }
 },
 "nbformat": 4,
 "nbformat_minor": 5
}
