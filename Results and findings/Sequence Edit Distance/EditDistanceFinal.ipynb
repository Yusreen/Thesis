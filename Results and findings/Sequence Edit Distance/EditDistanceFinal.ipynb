{
 "cells": [
  {
   "cell_type": "code",
   "execution_count": null,
   "id": "2825154f",
   "metadata": {},
   "outputs": [],
   "source": [
    "import pandas as pd\n",
    "import Levenshtein\n",
    "from Bio import SeqIO"
   ]
  },
  {
   "cell_type": "code",
   "execution_count": null,
   "id": "9d8f0d57",
   "metadata": {},
   "outputs": [],
   "source": [
    "# Create a dataframe for the SequenceBandageSPAlignerGraphAligner\n",
    "df_Sequences= pd.read_csv('SequencesBandageGraphAlignerSPAlignerCAMIM2.tsv', sep='\\t')"
   ]
  },
  {
   "cell_type": "code",
   "execution_count": null,
   "id": "fba5ec36",
   "metadata": {
    "scrolled": true
   },
   "outputs": [],
   "source": [
    "df_Sequences"
   ]
  },
  {
   "cell_type": "code",
   "execution_count": null,
   "id": "ba4e5293",
   "metadata": {},
   "outputs": [],
   "source": [
    "has_floats = False\n",
    "\n",
    "for value in df_Sequences['Sequence_SPAligner']:\n",
    "    if isinstance(value, float):\n",
    "        has_floats = True\n",
    "        break\n",
    "\n",
    "if has_floats:\n",
    "    print(\"The 'sequence' column contains floats.\")\n",
    "else:\n",
    "    print(\"The 'sequence' column does not contain floats.\")"
   ]
  },
  {
   "cell_type": "code",
   "execution_count": null,
   "id": "17474603",
   "metadata": {},
   "outputs": [],
   "source": [
    "df_Sequences['Sequence_GraphAligner'] =df_Sequences['Sequence_GraphAligner'].astype(str)\n",
    "df_Sequences['Sequence_SPAligner'] =df_Sequences['Sequence_SPAligner'].astype(str)"
   ]
  },
  {
   "cell_type": "code",
   "execution_count": null,
   "id": "215e6368",
   "metadata": {},
   "outputs": [],
   "source": [
    "df_Sequences.dtypes"
   ]
  },
  {
   "cell_type": "code",
   "execution_count": null,
   "id": "28018ca3",
   "metadata": {},
   "outputs": [],
   "source": [
    "df_Sequences['Sequence_Bandage'] =df_Sequences['Sequence_Bandage'].str.strip()\n",
    "df_Sequences['Sequence_GraphAligner'] =df_Sequences['Sequence_GraphAligner'].str.strip()\n",
    "df_Sequences['Sequence_SPAligner'] =df_Sequences['Sequence_SPAligner'].str.strip()"
   ]
  },
  {
   "cell_type": "code",
   "execution_count": null,
   "id": "b4cc9884",
   "metadata": {},
   "outputs": [],
   "source": [
    "df_Sequences.dtypes"
   ]
  },
  {
   "cell_type": "code",
   "execution_count": null,
   "id": "43349ed4",
   "metadata": {},
   "outputs": [],
   "source": [
    "has_floats = False\n",
    "\n",
    "for value in df_Sequences['Sequence_SPAligner']:\n",
    "    if isinstance(value, float):\n",
    "        has_floats = True\n",
    "        break\n",
    "\n",
    "if has_floats:\n",
    "    print(\"The 'sequence' column contains floats.\")\n",
    "else:\n",
    "    print(\"The 'sequence' column does not contain floats.\")"
   ]
  },
  {
   "cell_type": "code",
   "execution_count": null,
   "id": "be2b3ce2",
   "metadata": {},
   "outputs": [],
   "source": [
    "# Convert the 'sequence' column to numeric type\n",
    "df_Sequences['Sequence_SPAligner'] = pd.to_numeric( df_Sequences['Sequence_SPAligner'], errors='coerce')\n",
    "\n",
    "# Filter out the non-float values\n",
    "float_values = df_Sequences.loc[df_Sequences['Sequence_SPAligner'].notnull(), 'Sequence_SPAligner']\n",
    "\n",
    "# Print the float values\n",
    "print(float_values)"
   ]
  },
  {
   "cell_type": "code",
   "execution_count": null,
   "id": "05e9b94e",
   "metadata": {},
   "outputs": [],
   "source": [
    "#Create a method to calculate the levenstein distance\n",
    "def calculate_edit_distance_sequence_GraphAligner(row):\n",
    "    return Levenshtein.distance(row['Sequence'], row['Sequence_GraphAligner'])"
   ]
  },
  {
   "cell_type": "code",
   "execution_count": null,
   "id": "bb17bb94",
   "metadata": {},
   "outputs": [],
   "source": [
    "#Create a method to calculate the levenstein distance\n",
    "def calculate_edit_distance_sequence_Bandage(row):\n",
    "    return Levenshtein.distance(row['Sequence'], row['Sequence_Bandage'])"
   ]
  },
  {
   "cell_type": "code",
   "execution_count": null,
   "id": "8718a5c7",
   "metadata": {},
   "outputs": [],
   "source": [
    "#Create a method to calculate the levenstein distance\n",
    "def calculate_edit_distance_sequence_SPAligner(row):\n",
    "    return Levenshtein.distance(row['Sequence'], row['Sequence_SPAligner'])"
   ]
  },
  {
   "cell_type": "code",
   "execution_count": null,
   "id": "b395fd7d",
   "metadata": {},
   "outputs": [],
   "source": [
    "#Calculate levenstein distance for sequence_SPAligner \n",
    "df_Sequences['edit_distance_query_sequence_SPAligner'] = df_Sequences.apply(calculate_edit_distance_sequence_SPAligner, axis=1)"
   ]
  },
  {
   "cell_type": "code",
   "execution_count": null,
   "id": "41c017cd",
   "metadata": {},
   "outputs": [],
   "source": [
    "df_Sequences"
   ]
  },
  {
   "cell_type": "code",
   "execution_count": null,
   "id": "d53cb585",
   "metadata": {},
   "outputs": [],
   "source": [
    "#Calculate levenstein distance for sequence_Bandage \n",
    "df_Sequences['edit_distance_query_sequence_Bandage'] = df_Sequences.apply(calculate_edit_distance_sequence_Bandage, axis=1)"
   ]
  },
  {
   "cell_type": "code",
   "execution_count": null,
   "id": "038527f2",
   "metadata": {},
   "outputs": [],
   "source": [
    "#Calculate levenstein distance for sequence_GraphAligner\n",
    "df_Sequences['edit_distance_query_sequence_GraphAligner'] = df_Sequences.apply(calculate_edit_distance_sequence_GraphAligner, axis=1)"
   ]
  },
  {
   "cell_type": "code",
   "execution_count": null,
   "id": "3a4fca7a",
   "metadata": {},
   "outputs": [],
   "source": [
    "df_Sequences"
   ]
  },
  {
   "cell_type": "code",
   "execution_count": null,
   "id": "f331389d",
   "metadata": {},
   "outputs": [],
   "source": [
    "df_Sequences['sequence_length'] = df_Sequences['Sequence'].apply(len)\n",
    "df_Sequences['sequence_length_Bandage'] = df_Sequences['Sequence_Bandage'].apply(len)\n",
    "df_Sequences['sequence_length_SPAligner'] = df_Sequences['Sequence_SPAligner'].apply(len)\n",
    "df_Sequences['sequence_length_GraphAligner'] = df_Sequences['Sequence_GraphAligner'].apply(len)"
   ]
  },
  {
   "cell_type": "code",
   "execution_count": null,
   "id": "e5124d14",
   "metadata": {},
   "outputs": [],
   "source": [
    "#Calculate the max_length for GraphAligner\n",
    "df_Sequences['max_length_GraphAligner'] =df_Sequences[['sequence_length', 'sequence_length_GraphAligner']].max(axis=1)\n",
    "\n",
    "\n",
    "\n",
    "df_Sequences['EditDistance_GraphAligner_Query'] = 1 - (df_Sequences['edit_distance_query_sequence_GraphAligner'] /df_Sequences['max_length_GraphAligner'])\n",
    "                                                      \n"
   ]
  },
  {
   "cell_type": "code",
   "execution_count": null,
   "id": "f150e38f",
   "metadata": {},
   "outputs": [],
   "source": [
    "df_Sequences"
   ]
  },
  {
   "cell_type": "code",
   "execution_count": null,
   "id": "8067fc49",
   "metadata": {},
   "outputs": [],
   "source": [
    "#Calculate the max_length for SPAligner\n",
    "df_Sequences['max_length_SPAligner'] =df_Sequences[['sequence_length', 'sequence_length_SPAligner']].max(axis=1)\n",
    "\n",
    "\n",
    "\n",
    "df_Sequences['EditDistance_SPAligner_Query'] = 1 - (df_Sequences['edit_distance_query_sequence_SPAligner'] /df_Sequences['max_length_SPAligner'])\n",
    "                                                      "
   ]
  },
  {
   "cell_type": "code",
   "execution_count": null,
   "id": "04e1edf3",
   "metadata": {},
   "outputs": [],
   "source": [
    "#Calculate the max_length for Bandage\n",
    "df_Sequences['max_length_Bandage'] =df_Sequences[['sequence_length', 'sequence_length_Bandage']].max(axis=1)\n",
    "\n",
    "\n",
    "df_Sequences['EditDistance_Bandage_Query'] = 1 - (df_Sequences['edit_distance_query_sequence_Bandage'] /df_Sequences['max_length_Bandage'])\n",
    "                                                      "
   ]
  },
  {
   "cell_type": "code",
   "execution_count": null,
   "id": "6926469c",
   "metadata": {},
   "outputs": [],
   "source": [
    "df_Sequences"
   ]
  },
  {
   "cell_type": "code",
   "execution_count": null,
   "id": "0d52cc3d",
   "metadata": {},
   "outputs": [],
   "source": [
    "df_Sequences.to_csv('SequenceDistanceCAMIM2Final.tsv',sep='\\t')"
   ]
  },
  {
   "cell_type": "code",
   "execution_count": null,
   "id": "c49ad0e3",
   "metadata": {},
   "outputs": [],
   "source": []
  }
 ],
 "metadata": {
  "kernelspec": {
   "display_name": "Python 3 (ipykernel)",
   "language": "python",
   "name": "python3"
  },
  "language_info": {
   "codemirror_mode": {
    "name": "ipython",
    "version": 3
   },
   "file_extension": ".py",
   "mimetype": "text/x-python",
   "name": "python",
   "nbconvert_exporter": "python",
   "pygments_lexer": "ipython3",
   "version": "3.10.9"
  }
 },
 "nbformat": 4,
 "nbformat_minor": 5
}
