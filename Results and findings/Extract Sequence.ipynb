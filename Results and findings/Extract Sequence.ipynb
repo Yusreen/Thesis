{
 "cells": [
  {
   "cell_type": "markdown",
   "id": "3b139ea6",
   "metadata": {},
   "source": [
    "## This Script is used to get the unique sequences from GraphAligner."
   ]
  },
  {
   "cell_type": "code",
   "execution_count": 1,
   "id": "a9fcfbc4",
   "metadata": {},
   "outputs": [],
   "source": [
    "# import the libraries\n",
    "import numpy as np\n",
    "import pandas as pd\n",
    "import re \n",
    "from Bio import SeqIO\n",
    "from collections import defaultdict\n",
    "import gfapy"
   ]
  },
  {
   "cell_type": "code",
   "execution_count": 2,
   "id": "a763c00b",
   "metadata": {},
   "outputs": [],
   "source": [
    "# Open the GFA file\n",
    "file_path = \"graph1.gfa\"\n",
    "gfa = gfapy.Gfa.from_file(file_path)\n",
    "\n",
    "num_segments = len(gfa.segments)"
   ]
  },
  {
   "cell_type": "code",
   "execution_count": 3,
   "id": "f9815da9",
   "metadata": {},
   "outputs": [],
   "source": [
    "data_graph = []"
   ]
  },
  {
   "cell_type": "code",
   "execution_count": 4,
   "id": "9b3bfa6c",
   "metadata": {
    "scrolled": true
   },
   "outputs": [
    {
     "name": "stdout",
     "output_type": "stream",
     "text": [
      "       Name                                           Sequence\n",
      "0      1321  CGTTCCACCGGTTCTTACAGCCTGGTTACTCAGCAGCCGCTGGGTG...\n",
      "1      1323  GTGCCTTACCACCCAGCGGCTGCTGAGTAACCAGGCTGTAAGAACC...\n",
      "2      1325  GTGCCTTACCACCCAGCGGCTGCTGAGTAACCAGGCTGTAAGAACC...\n",
      "3     32989  CTTAATATGAACCATCCAACTTTATGGGGTCAGTCCAGCAGCGCCG...\n",
      "4       565  GGTTCGGCGGAGCTTACCGCGTCTTTTCGCGGTTAGCGGAGTGTGG...\n",
      "...     ...                                                ...\n",
      "2524  37173  GAACAAGGATCTAAGCTGTTTTAAGTTATGGGCAACGCAATGCACT...\n",
      "2525  24893  TCTTAAGAGAGTGCATTGCGTTGCCCATAACTTAAAACAGCTTAGA...\n",
      "2526  36779  TTTTCTCTGCAACCGAACCGGCTGTTTGTGTGAAGTGATTCACATC...\n",
      "2527   6673  CTCGGCCCGACCCGAAGCCTGCAGGGATAAGTCGAAGGGACCGCGC...\n",
      "2528  37823  CTCGGCCCGACCCGAAGCCTGCAGGGATAAGTCGAAGGGACCGCGC...\n",
      "\n",
      "[2529 rows x 2 columns]\n"
     ]
    }
   ],
   "source": [
    "# Store the name and sequence for each node from the graph\n",
    "for segment in gfa.segments:\n",
    "    data_graph.append({\"Name\": segment.name, \"Sequence\": segment.sequence})\n",
    "\n",
    "# Convert the list to a DataFrame\n",
    "df_graph = pd.DataFrame(data_graph)\n",
    "\n",
    "# Print the DataFrame\n",
    "print(df_graph)"
   ]
  },
  {
   "cell_type": "code",
   "execution_count": 5,
   "id": "b4e2d527",
   "metadata": {},
   "outputs": [
    {
     "data": {
      "text/plain": [
       "0       CGTTCCACCGGTTCTTACAGCCTGGTTACTCAGCAGCCGCTGGGTG...\n",
       "1       GTGCCTTACCACCCAGCGGCTGCTGAGTAACCAGGCTGTAAGAACC...\n",
       "2       GTGCCTTACCACCCAGCGGCTGCTGAGTAACCAGGCTGTAAGAACC...\n",
       "3       CTTAATATGAACCATCCAACTTTATGGGGTCAGTCCAGCAGCGCCG...\n",
       "4       GGTTCGGCGGAGCTTACCGCGTCTTTTCGCGGTTAGCGGAGTGTGG...\n",
       "                              ...                        \n",
       "2524    GAACAAGGATCTAAGCTGTTTTAAGTTATGGGCAACGCAATGCACT...\n",
       "2525    TCTTAAGAGAGTGCATTGCGTTGCCCATAACTTAAAACAGCTTAGA...\n",
       "2526    TTTTCTCTGCAACCGAACCGGCTGTTTGTGTGAAGTGATTCACATC...\n",
       "2527    CTCGGCCCGACCCGAAGCCTGCAGGGATAAGTCGAAGGGACCGCGC...\n",
       "2528    CTCGGCCCGACCCGAAGCCTGCAGGGATAAGTCGAAGGGACCGCGC...\n",
       "Name: Sequence, Length: 2529, dtype: object"
      ]
     },
     "execution_count": 5,
     "metadata": {},
     "output_type": "execute_result"
    }
   ],
   "source": [
    "df_graph['Sequence']"
   ]
  },
  {
   "cell_type": "code",
   "execution_count": 6,
   "id": "a6c12e7d",
   "metadata": {},
   "outputs": [],
   "source": [
    "#Save only one copy of each row to the dataframe\n",
    "df_graph=df_graph.drop_duplicates()"
   ]
  },
  {
   "cell_type": "code",
   "execution_count": 7,
   "id": "d908fb96",
   "metadata": {},
   "outputs": [],
   "source": [
    "#GraphAlignerNotEqual.tsv is from another script:GraphAlignerBandageScript.ipynb\n",
    "df_GraphAligner_Paths= pd.read_csv('111_GraphResults/SequencesBandageGraphAligner.tsv', sep='\\t')"
   ]
  },
  {
   "cell_type": "code",
   "execution_count": null,
   "id": "237018cb",
   "metadata": {
    "scrolled": true
   },
   "outputs": [],
   "source": [
    "df_GraphAligner_Paths"
   ]
  },
  {
   "cell_type": "code",
   "execution_count": null,
   "id": "d4b202e4",
   "metadata": {
    "scrolled": false
   },
   "outputs": [],
   "source": [
    "selected_rows = df_GraphAligner_Paths[df_GraphAligner_Paths['FinalResultBandageVSGraphAligner'] != 'Full']\n",
    "selected_rows.columns"
   ]
  },
  {
   "cell_type": "code",
   "execution_count": null,
   "id": "8e700326",
   "metadata": {},
   "outputs": [],
   "source": [
    "selected_rows=selected_rows.drop(['Unnamed: 9',\n",
    "       'Unnamed: 10', 'Unnamed: 11', 'Unnamed: 12', 'Unnamed: 13',\n",
    "       'Unnamed: 14', 'Unnamed: 15','FinalResultBandageVSGraphAligner.1',\n",
    "       'Unnamed: 17', 'Unnamed: 18', 'Unnamed: 19', 'Unnamed: 20',\n",
    "       'Unnamed: 21', 'Unnamed: 22'] ,axis=1)\n"
   ]
  },
  {
   "cell_type": "code",
   "execution_count": null,
   "id": "10bb2c06",
   "metadata": {},
   "outputs": [],
   "source": [
    "selected_rows_Path"
   ]
  },
  {
   "cell_type": "code",
   "execution_count": null,
   "id": "59b9d1b2",
   "metadata": {},
   "outputs": [],
   "source": [
    "# Function to process the Path values\n",
    "def process_path(path):\n",
    "    path = path.replace('<', ' ').replace('>', ' ')\n",
    "    path = ' '.join(path.split('<'))\n",
    "    return path"
   ]
  },
  {
   "cell_type": "code",
   "execution_count": null,
   "id": "e4877c1b",
   "metadata": {},
   "outputs": [],
   "source": [
    "df_GraphAligner_Paths['Path Matching']=df_GraphAligner_Paths['Path Matching'].apply(process_path).str.strip()"
   ]
  },
  {
   "cell_type": "code",
   "execution_count": null,
   "id": "00911a75",
   "metadata": {},
   "outputs": [],
   "source": [
    "df_GraphAligner_Paths[['Path1', 'Path2']] = df_GraphAligner_Paths['Path Matching'].str.split(' ', expand=True)"
   ]
  },
  {
   "cell_type": "code",
   "execution_count": null,
   "id": "57d156c6",
   "metadata": {
    "scrolled": true
   },
   "outputs": [],
   "source": [
    "df_GraphAligner_Paths"
   ]
  },
  {
   "cell_type": "markdown",
   "id": "7250f747",
   "metadata": {},
   "source": [
    "## Get the rows that have a unique node, Path1"
   ]
  },
  {
   "cell_type": "code",
   "execution_count": null,
   "id": "7161f833",
   "metadata": {
    "scrolled": true
   },
   "outputs": [],
   "source": [
    "# Get the rows where Path 2 is  None\n",
    "Path1_Only = df_GraphAligner_Paths[df_GraphAligner_Paths['Path2'].isna()]\n",
    "\n",
    "# Print the resulting dataframe\n",
    "Path1_Only "
   ]
  },
  {
   "cell_type": "code",
   "execution_count": null,
   "id": "447858cc",
   "metadata": {},
   "outputs": [],
   "source": [
    "# Get the sequence where we have only Path1\n",
    "merged_df_Path1= pd.merge(Path1_Only , df_graph, left_on='Path1', right_on='Name')\n",
    "merged_df_Path1"
   ]
  },
  {
   "cell_type": "code",
   "execution_count": null,
   "id": "9edb725d",
   "metadata": {},
   "outputs": [],
   "source": [
    "def extract_sequences_Path1(dataframe):\n",
    "    for index, row in dataframe.iterrows():\n",
    "        start_pos = row['Start Position on Path']\n",
    "        end_pos = row['End Position on Path']\n",
    "        sequence = row['Sequence']\n",
    "        \n",
    "        extracted_sequence = sequence[start_pos-1:end_pos]\n",
    "        dataframe.loc[index, 'Result_node1'] = extracted_sequence\n",
    "    \n",
    "    return dataframe"
   ]
  },
  {
   "cell_type": "code",
   "execution_count": null,
   "id": "c504d74a",
   "metadata": {},
   "outputs": [],
   "source": [
    "extracted_sequences_Path1_df = extract_sequences_Path1(merged_df_Path1)\n",
    "extracted_sequences_Path1_df\n",
    "#Save the dataframe to a pdf\n",
    "extracted_sequences_Path1_df.to_csv(\"Path1_TestSequences.tsv\", sep=\"\\t\")"
   ]
  },
  {
   "cell_type": "code",
   "execution_count": null,
   "id": "7f05410a",
   "metadata": {
    "scrolled": true
   },
   "outputs": [],
   "source": [
    "# Get the rows where Path 2 is not None\n",
    "df_multiple = df_GraphAligner_Paths[df_GraphAligner_Paths['Path2'].notna()]\n",
    "\n",
    "# Print the resulting dataframe\n",
    "df_multiple"
   ]
  },
  {
   "cell_type": "code",
   "execution_count": null,
   "id": "f42be06d",
   "metadata": {
    "scrolled": true
   },
   "outputs": [],
   "source": [
    "merged_df_multiple_Path1= pd.merge(df_multiple, df_graph, left_on='Path1', right_on='Name')\n",
    "merged_df_multiple_Path2=pd.merge(merged_df_multiple_Path1, df_graph, left_on='Path2', right_on='Name')\n",
    "merged_df_multiple_Path2"
   ]
  },
  {
   "cell_type": "code",
   "execution_count": null,
   "id": "6e9b121b",
   "metadata": {},
   "outputs": [],
   "source": [
    "#Rename Name_X, Sequence_X, Name_y, Sequence_y\n",
    "merged_df_multiple_Path2.rename(columns = {'Sequence_x':'Sequence_Path1'}, inplace = True)\n",
    "merged_df_multiple_Path2.rename(columns = {'Sequence_y':'Sequence_Path2'}, inplace = True)\n",
    "merged_df_multiple_Path2"
   ]
  },
  {
   "cell_type": "code",
   "execution_count": null,
   "id": "ea94b718",
   "metadata": {},
   "outputs": [],
   "source": [
    "def extract_sequences_multiple_sequences(dataframe):\n",
    "    for index, row in dataframe.iterrows():\n",
    "        start_pos = row['Start Position on Path']\n",
    "        sequence_1 = row['Sequence_Path1']\n",
    "       \n",
    "        #Get the first sequence, and remove 55 kmer from it\n",
    "        extracted_sequence_first = sequence_1[start_pos-1:]\n",
    "        \n",
    "        dataframe.loc[index, 'Sequencefirst'] = extracted_sequence_first\n",
    "    \n",
    "    return dataframe"
   ]
  },
  {
   "cell_type": "code",
   "execution_count": null,
   "id": "b6555b1a",
   "metadata": {
    "scrolled": false
   },
   "outputs": [],
   "source": [
    "extracted_sequences_2 = extract_sequences_multiple_sequences(merged_df_multiple_Path2)\n",
    "extracted_sequences_2.to_csv('TestSeque.tsv',sep='\\t')\n",
    "\n",
    "extracted_sequences_2"
   ]
  },
  {
   "cell_type": "code",
   "execution_count": null,
   "id": "e3b81411",
   "metadata": {},
   "outputs": [],
   "source": [
    "def extract_sequences_multiple_sequences_path2(dataframe):\n",
    "    for index, row in dataframe.iterrows():\n",
    "        end_pos = row['End Position on Path']\n",
    "        sequence_2 = row['Sequence_Path2']\n",
    "       \n",
    "        #Get the first sequence, and remove 55 kmer from it\n",
    "        extracted_sequence_second = sequence_2[:end_pos]\n",
    "        \n",
    "        dataframe.loc[index, 'SequencefSecond'] = extracted_sequence_second\n",
    "    \n",
    "    return dataframe"
   ]
  },
  {
   "cell_type": "code",
   "execution_count": null,
   "id": "84e48fdc",
   "metadata": {},
   "outputs": [],
   "source": [
    "extracted_sequences_3 = extract_sequences_multiple_sequences_path2(extracted_sequences_2)\n",
    "extracted_sequences_3.to_csv('TestSeque3.tsv',sep='\\t')\n",
    "\n",
    "extracted_sequences_3"
   ]
  },
  {
   "cell_type": "code",
   "execution_count": null,
   "id": "4886a545",
   "metadata": {},
   "outputs": [],
   "source": [
    "def extract_sequences_multiple_sequences_overlap(dataframe):\n",
    "   \n",
    "    for index, row in dataframe.iterrows():\n",
    "        sequence_first = row['Sequencefirst']\n",
    "        length_end=len(sequence_first)-55\n",
    "       \n",
    "        #Get the first sequence, and the last 55 characters\n",
    "        extracted_sequence_first = sequence_first[:len(sequence_first)-55]\n",
    "        \n",
    "        dataframe.loc[index, 'length'] = len(sequence_first)\n",
    "        dataframe.loc[index, 'length_end'] = length_end\n",
    "        dataframe.loc[index, 'FinalSequence1'] = sequence_first[:length_end]\n",
    "    \n",
    "    return dataframe\n",
    "    "
   ]
  },
  {
   "cell_type": "code",
   "execution_count": null,
   "id": "cb6afa17",
   "metadata": {},
   "outputs": [],
   "source": [
    "extracted_sequences_multiple = extract_sequences_multiple_sequences_overlap(extracted_sequences_3)"
   ]
  },
  {
   "cell_type": "code",
   "execution_count": null,
   "id": "03994249",
   "metadata": {
    "scrolled": false
   },
   "outputs": [],
   "source": [
    "extracted_sequences_multiple"
   ]
  },
  {
   "cell_type": "code",
   "execution_count": null,
   "id": "6eec0c80",
   "metadata": {},
   "outputs": [],
   "source": [
    "def extract_sequences_multiple_sequences_final(dataframe):\n",
    "   \n",
    "    for index, row in dataframe.iterrows():\n",
    "        sequence_first = row['FinalSequence1']\n",
    "        sequence_second = row['SequencefSecond']\n",
    "       \n",
    "        #Get the first sequence, and the last 55 characters\n",
    "        extracted_sequence_final = sequence_first+sequence_second\n",
    "        \n",
    "      \n",
    "        dataframe.loc[index, 'FinalSequence'] = sequence_first + sequence_second\n",
    "    \n",
    "    return dataframe"
   ]
  },
  {
   "cell_type": "code",
   "execution_count": null,
   "id": "384c03b8",
   "metadata": {},
   "outputs": [],
   "source": [
    "extracted_sequences_multiple_final =extract_sequences_multiple_sequences_final(extracted_sequences_multiple)"
   ]
  },
  {
   "cell_type": "code",
   "execution_count": null,
   "id": "42454a9b",
   "metadata": {},
   "outputs": [],
   "source": [
    "extracted_sequences_multiple_final"
   ]
  },
  {
   "cell_type": "code",
   "execution_count": null,
   "id": "f14be1a5",
   "metadata": {},
   "outputs": [],
   "source": [
    "#Drop some columns\n",
    "extracted_sequences_multiple_final=extracted_sequences_multiple_final.drop(['Path_Bandage', 'Path_GraphAligner','Equal','Name_x','Name_y'], axis=1)"
   ]
  },
  {
   "cell_type": "code",
   "execution_count": null,
   "id": "4ebe07ca",
   "metadata": {},
   "outputs": [],
   "source": [
    "extracted_sequences_multiple_final"
   ]
  },
  {
   "cell_type": "code",
   "execution_count": null,
   "id": "e3acd285",
   "metadata": {},
   "outputs": [],
   "source": [
    "extracted_sequences_multiple_final.rename(columns = {'Sequence_Path1':'Sequence_Path1'}, inplace = True)"
   ]
  },
  {
   "cell_type": "code",
   "execution_count": null,
   "id": "b61c6fc1",
   "metadata": {},
   "outputs": [],
   "source": [
    "extracted_sequences_multiple_final.rename(columns = {'Sequence_Path2':'Sequence_FromGraph_Path2'}, inplace = True)"
   ]
  },
  {
   "cell_type": "code",
   "execution_count": null,
   "id": "88b046e9",
   "metadata": {},
   "outputs": [],
   "source": [
    "extracted_sequences_multiple_final.rename(columns = {'Sequencefirst':'Sequence_FromGraph_Path1_No_Overlap'}, inplace = True)"
   ]
  },
  {
   "cell_type": "code",
   "execution_count": null,
   "id": "72babb37",
   "metadata": {},
   "outputs": [],
   "source": [
    "extracted_sequences_multiple_final.rename(columns = {'length':'Length_Sequence_Path1_No_Overlap'}, inplace = True)\n"
   ]
  },
  {
   "cell_type": "code",
   "execution_count": null,
   "id": "bb342933",
   "metadata": {},
   "outputs": [],
   "source": [
    "extracted_sequences_multiple_final.rename(columns = {'length_end':'Length_Sequence_Path1_With_Overlap'}, inplace = True)"
   ]
  },
  {
   "cell_type": "code",
   "execution_count": null,
   "id": "359b52a7",
   "metadata": {},
   "outputs": [],
   "source": [
    "extracted_sequences_multiple_final.rename(columns = {'FinalSequence1':'Sequence_Path1_With_Overlap'}, inplace = True)"
   ]
  },
  {
   "cell_type": "code",
   "execution_count": null,
   "id": "93e208df",
   "metadata": {},
   "outputs": [],
   "source": [
    "extracted_sequences_multiple_final.rename(columns = {'FinalSequence':'Concatenated_Sequence'}, inplace = True)"
   ]
  },
  {
   "cell_type": "code",
   "execution_count": null,
   "id": "c76914bb",
   "metadata": {},
   "outputs": [],
   "source": [
    "extracted_sequences_multiple_final.to_csv(\"FinalConcatenatedSequences.tsv\",sep='\\t')"
   ]
  },
  {
   "cell_type": "code",
   "execution_count": null,
   "id": "271e8b79",
   "metadata": {},
   "outputs": [],
   "source": []
  }
 ],
 "metadata": {
  "kernelspec": {
   "display_name": "Python 3 (ipykernel)",
   "language": "python",
   "name": "python3"
  },
  "language_info": {
   "codemirror_mode": {
    "name": "ipython",
    "version": 3
   },
   "file_extension": ".py",
   "mimetype": "text/x-python",
   "name": "python",
   "nbconvert_exporter": "python",
   "pygments_lexer": "ipython3",
   "version": "3.10.9"
  }
 },
 "nbformat": 4,
 "nbformat_minor": 5
}
