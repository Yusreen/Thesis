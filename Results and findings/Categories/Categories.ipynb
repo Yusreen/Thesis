{
 "cells": [
  {
   "cell_type": "code",
   "execution_count": 1,
   "id": "e43f0cf6",
   "metadata": {},
   "outputs": [],
   "source": [
    "# import the libraries\n",
    "import numpy as np\n",
    "import pandas as pd\n",
    "import re \n",
    "from Bio import SeqIO\n",
    "from collections import defaultdict"
   ]
  },
  {
   "cell_type": "code",
   "execution_count": 2,
   "id": "627f842a",
   "metadata": {},
   "outputs": [],
   "source": [
    "# Create a dataframe for Bandage Combined1\n",
    "Categories= pd.read_csv('FinalCategories111.tsv', sep='\\t')"
   ]
  },
  {
   "cell_type": "code",
   "execution_count": 3,
   "id": "36e46dfa",
   "metadata": {},
   "outputs": [
    {
     "data": {
      "text/plain": [
       "Index(['Unnamed: 0', 'Query', 'Path_Bandage_x', 'Start_Bandage_x',\n",
       "       'End_Bandage_x', 'Extracted_Path_x', 'Start_SPAligner_x',\n",
       "       'End_SPAligner_x', 'Path_SPAligner_x', 'FinalResultBandageVSSPAligner',\n",
       "       'Path_Bandage_y', 'Start_Bandage_y', 'End_Bandage_y',\n",
       "       'Extracted_Path_y', 'Start_GraphAligner_x', 'End_GraphAligner_x',\n",
       "       'Path_GraphAligner_x', 'FinalResultBandageVSGraphAligner',\n",
       "       'Start_SPAligner_y', 'End_SPAligner_y', 'Path_SPAligner_y',\n",
       "       'Start_GraphAligner_y', 'End_GraphAligner_y', 'Path_GraphAligner_y',\n",
       "       'SPAlignerVSGraphAligner'],\n",
       "      dtype='object')"
      ]
     },
     "execution_count": 3,
     "metadata": {},
     "output_type": "execute_result"
    }
   ],
   "source": [
    "Categories.columns"
   ]
  },
  {
   "cell_type": "code",
   "execution_count": 4,
   "id": "0580a358",
   "metadata": {},
   "outputs": [
    {
     "data": {
      "text/plain": [
       "Unnamed: 0                           int64\n",
       "Query                               object\n",
       "Path_Bandage_x                      object\n",
       "Start_Bandage_x                     object\n",
       "End_Bandage_x                       object\n",
       "Extracted_Path_x                    object\n",
       "Start_SPAligner_x                    int64\n",
       "End_SPAligner_x                      int64\n",
       "Path_SPAligner_x                    object\n",
       "FinalResultBandageVSSPAligner       object\n",
       "Path_Bandage_y                      object\n",
       "Start_Bandage_y                     object\n",
       "End_Bandage_y                       object\n",
       "Extracted_Path_y                    object\n",
       "Start_GraphAligner_x                 int64\n",
       "End_GraphAligner_x                   int64\n",
       "Path_GraphAligner_x                  int64\n",
       "FinalResultBandageVSGraphAligner    object\n",
       "Start_SPAligner_y                    int64\n",
       "End_SPAligner_y                      int64\n",
       "Path_SPAligner_y                    object\n",
       "Start_GraphAligner_y                 int64\n",
       "End_GraphAligner_y                   int64\n",
       "Path_GraphAligner_y                  int64\n",
       "SPAlignerVSGraphAligner             object\n",
       "dtype: object"
      ]
     },
     "execution_count": 4,
     "metadata": {},
     "output_type": "execute_result"
    }
   ],
   "source": [
    "Categories.dtypes"
   ]
  },
  {
   "cell_type": "code",
   "execution_count": 5,
   "id": "81c88c70",
   "metadata": {},
   "outputs": [
    {
     "name": "stdout",
     "output_type": "stream",
     "text": [
      "FinalResultBandageVSSPAligner\n",
      "Full                    213\n",
      "Different               148\n",
      "SinglePathEndMatch        6\n",
      "SinglePathFull            6\n",
      "SinglePathStartMatch      5\n",
      "Name: count, dtype: int64\n"
     ]
    }
   ],
   "source": [
    "category_counts = Categories['FinalResultBandageVSSPAligner'].value_counts()\n",
    "\n",
    "print(category_counts)"
   ]
  },
  {
   "cell_type": "code",
   "execution_count": 8,
   "id": "d89a4113",
   "metadata": {},
   "outputs": [
    {
     "name": "stdout",
     "output_type": "stream",
     "text": [
      "FinalResultBandageVSGraphAligner\n",
      "Different    108\n",
      "Full          33\n",
      "Name: count, dtype: int64\n"
     ]
    }
   ],
   "source": [
    "category_counts = Categories['FinalResultBandageVSGraphAligner'].value_counts()\n",
    "\n",
    "print(category_counts)"
   ]
  },
  {
   "cell_type": "code",
   "execution_count": 9,
   "id": "80950849",
   "metadata": {},
   "outputs": [
    {
     "name": "stdout",
     "output_type": "stream",
     "text": [
      "SPAlignerVSGraphAligner\n",
      "Different    141\n",
      "Name: count, dtype: int64\n"
     ]
    }
   ],
   "source": [
    "category_counts = Categories['SPAlignerVSGraphAligner'].value_counts()\n",
    "\n",
    "print(category_counts)"
   ]
  },
  {
   "cell_type": "code",
   "execution_count": null,
   "id": "5040c080",
   "metadata": {},
   "outputs": [],
   "source": []
  },
  {
   "cell_type": "code",
   "execution_count": null,
   "id": "162b6162",
   "metadata": {},
   "outputs": [],
   "source": []
  }
 ],
 "metadata": {
  "kernelspec": {
   "display_name": "Python 3 (ipykernel)",
   "language": "python",
   "name": "python3"
  },
  "language_info": {
   "codemirror_mode": {
    "name": "ipython",
    "version": 3
   },
   "file_extension": ".py",
   "mimetype": "text/x-python",
   "name": "python",
   "nbconvert_exporter": "python",
   "pygments_lexer": "ipython3",
   "version": "3.10.9"
  }
 },
 "nbformat": 4,
 "nbformat_minor": 5
}
