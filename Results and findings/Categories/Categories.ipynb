{
 "cells": [
  {
   "cell_type": "code",
   "execution_count": 1,
   "id": "e43f0cf6",
   "metadata": {},
   "outputs": [],
   "source": [
    "# import the libraries\n",
    "import numpy as np\n",
    "import pandas as pd\n",
    "import re \n",
    "from Bio import SeqIO\n",
    "from collections import defaultdict"
   ]
  },
  {
   "cell_type": "code",
   "execution_count": 2,
   "id": "627f842a",
   "metadata": {},
   "outputs": [],
   "source": [
    "# Create a dataframe for Bandage Combined1\n",
    "Categories= pd.read_csv('CategorizeResultsReal.tsv', sep='\\t')"
   ]
  },
  {
   "cell_type": "code",
   "execution_count": 3,
   "id": "36e46dfa",
   "metadata": {},
   "outputs": [
    {
     "data": {
      "text/plain": [
       "Index(['Unnamed: 0', 'Query', 'Path_Bandage', 'Start_Bandage', 'End_Bandage',\n",
       "       'Extracted_Path', 'Start_SPAligner', 'End_SPAligner', 'Path_SPAligner',\n",
       "       'Path_GraphAligner', 'Start_GraphAligner', 'End_GraphAligner',\n",
       "       'BandageVSSPAligner', 'FinalResultsBandageVSSPAligner',\n",
       "       'SPAlignerVSGraphAligner', 'FinalResultsSPAlignerVSGraphAligner',\n",
       "       'BandageVSGraphAligner', 'ResultsBandageVSGraphAligner',\n",
       "       'FinalResultBandageVSGraphAligner'],\n",
       "      dtype='object')"
      ]
     },
     "execution_count": 3,
     "metadata": {},
     "output_type": "execute_result"
    }
   ],
   "source": [
    "Categories.columns"
   ]
  },
  {
   "cell_type": "code",
   "execution_count": 4,
   "id": "0580a358",
   "metadata": {},
   "outputs": [
    {
     "data": {
      "text/plain": [
       "Unnamed: 0                               int64\n",
       "Query                                   object\n",
       "Path_Bandage                            object\n",
       "Start_Bandage                           object\n",
       "End_Bandage                             object\n",
       "Extracted_Path                          object\n",
       "Start_SPAligner                        float64\n",
       "End_SPAligner                          float64\n",
       "Path_SPAligner                          object\n",
       "Path_GraphAligner                       object\n",
       "Start_GraphAligner                      object\n",
       "End_GraphAligner                        object\n",
       "BandageVSSPAligner                      object\n",
       "FinalResultsBandageVSSPAligner          object\n",
       "SPAlignerVSGraphAligner                 object\n",
       "FinalResultsSPAlignerVSGraphAligner     object\n",
       "BandageVSGraphAligner                   object\n",
       "ResultsBandageVSGraphAligner            object\n",
       "FinalResultBandageVSGraphAligner        object\n",
       "dtype: object"
      ]
     },
     "execution_count": 4,
     "metadata": {},
     "output_type": "execute_result"
    }
   ],
   "source": [
    "Categories.dtypes"
   ]
  },
  {
   "cell_type": "code",
   "execution_count": 5,
   "id": "81c88c70",
   "metadata": {},
   "outputs": [
    {
     "name": "stdout",
     "output_type": "stream",
     "text": [
      "FinalResultsBandageVSSPAligner\n",
      "SinglePathMatch    95\n",
      "Different          54\n",
      "Name: count, dtype: int64\n"
     ]
    }
   ],
   "source": [
    "category_counts = Categories['FinalResultsBandageVSSPAligner'].value_counts()\n",
    "\n",
    "print(category_counts)"
   ]
  },
  {
   "cell_type": "code",
   "execution_count": 6,
   "id": "d89a4113",
   "metadata": {},
   "outputs": [
    {
     "name": "stdout",
     "output_type": "stream",
     "text": [
      "FinalResultBandageVSGraphAligner\n",
      "Different          81\n",
      "SinglePathMatch    35\n",
      "Full               33\n",
      "Name: count, dtype: int64\n"
     ]
    }
   ],
   "source": [
    "category_counts = Categories['FinalResultBandageVSGraphAligner'].value_counts()\n",
    "\n",
    "print(category_counts)"
   ]
  },
  {
   "cell_type": "code",
   "execution_count": 7,
   "id": "80950849",
   "metadata": {},
   "outputs": [
    {
     "name": "stdout",
     "output_type": "stream",
     "text": [
      "FinalResultsSPAlignerVSGraphAligner\n",
      "SinglePathMatch    94\n",
      "Different          55\n",
      "Name: count, dtype: int64\n"
     ]
    }
   ],
   "source": [
    "category_counts = Categories['FinalResultsSPAlignerVSGraphAligner'].value_counts()\n",
    "\n",
    "print(category_counts)"
   ]
  },
  {
   "cell_type": "code",
   "execution_count": null,
   "id": "5040c080",
   "metadata": {},
   "outputs": [],
   "source": []
  },
  {
   "cell_type": "code",
   "execution_count": null,
   "id": "162b6162",
   "metadata": {},
   "outputs": [],
   "source": []
  }
 ],
 "metadata": {
  "kernelspec": {
   "display_name": "Python 3 (ipykernel)",
   "language": "python",
   "name": "python3"
  },
  "language_info": {
   "codemirror_mode": {
    "name": "ipython",
    "version": 3
   },
   "file_extension": ".py",
   "mimetype": "text/x-python",
   "name": "python",
   "nbconvert_exporter": "python",
   "pygments_lexer": "ipython3",
   "version": "3.10.9"
  }
 },
 "nbformat": 4,
 "nbformat_minor": 5
}
