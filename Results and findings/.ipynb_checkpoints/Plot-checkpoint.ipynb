{
 "cells": [
  {
   "cell_type": "code",
   "execution_count": 1,
   "id": "689ba6ba",
   "metadata": {},
   "outputs": [],
   "source": [
    "# import the libraries\n",
    "import numpy as np\n",
    "import pandas as pd\n",
    "import re \n",
    "from Bio import SeqIO\n",
    "from collections import defaultdict\n"
   ]
  },
  {
   "cell_type": "code",
   "execution_count": 2,
   "id": "cdcaff07",
   "metadata": {},
   "outputs": [],
   "source": [
    "# Create a dataframe for Plot_1_1_1\n",
    "Plot_1= pd.read_csv('Plot_1.tsv', sep='\\t')"
   ]
  },
  {
   "cell_type": "code",
   "execution_count": 3,
   "id": "7f437874",
   "metadata": {},
   "outputs": [
    {
     "data": {
      "text/html": [
       "<div>\n",
       "<style scoped>\n",
       "    .dataframe tbody tr th:only-of-type {\n",
       "        vertical-align: middle;\n",
       "    }\n",
       "\n",
       "    .dataframe tbody tr th {\n",
       "        vertical-align: top;\n",
       "    }\n",
       "\n",
       "    .dataframe thead th {\n",
       "        text-align: right;\n",
       "    }\n",
       "</style>\n",
       "<table border=\"1\" class=\"dataframe\">\n",
       "  <thead>\n",
       "    <tr style=\"text-align: right;\">\n",
       "      <th></th>\n",
       "      <th>Graph</th>\n",
       "      <th>Software</th>\n",
       "      <th>Time</th>\n",
       "      <th>Memory</th>\n",
       "    </tr>\n",
       "  </thead>\n",
       "  <tbody>\n",
       "    <tr>\n",
       "      <th>0</th>\n",
       "      <td>CAMIH</td>\n",
       "      <td>Bandage</td>\n",
       "      <td>93.94</td>\n",
       "      <td>2304229376</td>\n",
       "    </tr>\n",
       "    <tr>\n",
       "      <th>1</th>\n",
       "      <td>CAMIH</td>\n",
       "      <td>SPALigner</td>\n",
       "      <td>1139.98</td>\n",
       "      <td>2934415360</td>\n",
       "    </tr>\n",
       "    <tr>\n",
       "      <th>2</th>\n",
       "      <td>CAMIH</td>\n",
       "      <td>GraphAligner</td>\n",
       "      <td>303.22</td>\n",
       "      <td>3340419072</td>\n",
       "    </tr>\n",
       "    <tr>\n",
       "      <th>3</th>\n",
       "      <td>Real</td>\n",
       "      <td>Bandage</td>\n",
       "      <td>379.45</td>\n",
       "      <td>2218000384</td>\n",
       "    </tr>\n",
       "    <tr>\n",
       "      <th>4</th>\n",
       "      <td>Real</td>\n",
       "      <td>SPALigner</td>\n",
       "      <td>3449.43</td>\n",
       "      <td>3685453824</td>\n",
       "    </tr>\n",
       "    <tr>\n",
       "      <th>5</th>\n",
       "      <td>Real</td>\n",
       "      <td>GraphAligner</td>\n",
       "      <td>952.83</td>\n",
       "      <td>3815079936</td>\n",
       "    </tr>\n",
       "    <tr>\n",
       "      <th>6</th>\n",
       "      <td>111</td>\n",
       "      <td>Bandage</td>\n",
       "      <td>0.07</td>\n",
       "      <td>14532608</td>\n",
       "    </tr>\n",
       "    <tr>\n",
       "      <th>7</th>\n",
       "      <td>111</td>\n",
       "      <td>SPALigner</td>\n",
       "      <td>3.72</td>\n",
       "      <td>172589056</td>\n",
       "    </tr>\n",
       "    <tr>\n",
       "      <th>8</th>\n",
       "      <td>111</td>\n",
       "      <td>GraphAligner</td>\n",
       "      <td>4.49</td>\n",
       "      <td>120098816</td>\n",
       "    </tr>\n",
       "  </tbody>\n",
       "</table>\n",
       "</div>"
      ],
      "text/plain": [
       "   Graph      Software     Time      Memory\n",
       "0  CAMIH       Bandage    93.94  2304229376\n",
       "1  CAMIH     SPALigner  1139.98  2934415360\n",
       "2  CAMIH  GraphAligner   303.22  3340419072\n",
       "3   Real       Bandage   379.45  2218000384\n",
       "4   Real     SPALigner  3449.43  3685453824\n",
       "5   Real  GraphAligner   952.83  3815079936\n",
       "6    111       Bandage     0.07    14532608\n",
       "7    111     SPALigner     3.72   172589056\n",
       "8    111  GraphAligner     4.49   120098816"
      ]
     },
     "execution_count": 3,
     "metadata": {},
     "output_type": "execute_result"
    }
   ],
   "source": [
    "\n",
    "Plot_1"
   ]
  },
  {
   "cell_type": "code",
   "execution_count": 4,
   "id": "8dcd2da9",
   "metadata": {},
   "outputs": [],
   "source": [
    "# Extract rows for Bandage\n",
    "CAMIH_df = Plot_1[Plot_1['Graph'] == 'CAMIH']\n"
   ]
  },
  {
   "cell_type": "code",
   "execution_count": 5,
   "id": "e7604129",
   "metadata": {},
   "outputs": [
    {
     "data": {
      "text/html": [
       "<div>\n",
       "<style scoped>\n",
       "    .dataframe tbody tr th:only-of-type {\n",
       "        vertical-align: middle;\n",
       "    }\n",
       "\n",
       "    .dataframe tbody tr th {\n",
       "        vertical-align: top;\n",
       "    }\n",
       "\n",
       "    .dataframe thead th {\n",
       "        text-align: right;\n",
       "    }\n",
       "</style>\n",
       "<table border=\"1\" class=\"dataframe\">\n",
       "  <thead>\n",
       "    <tr style=\"text-align: right;\">\n",
       "      <th></th>\n",
       "      <th>Graph</th>\n",
       "      <th>Software</th>\n",
       "      <th>Time</th>\n",
       "      <th>Memory</th>\n",
       "    </tr>\n",
       "  </thead>\n",
       "  <tbody>\n",
       "    <tr>\n",
       "      <th>0</th>\n",
       "      <td>CAMIH</td>\n",
       "      <td>Bandage</td>\n",
       "      <td>93.94</td>\n",
       "      <td>2304229376</td>\n",
       "    </tr>\n",
       "    <tr>\n",
       "      <th>1</th>\n",
       "      <td>CAMIH</td>\n",
       "      <td>SPALigner</td>\n",
       "      <td>1139.98</td>\n",
       "      <td>2934415360</td>\n",
       "    </tr>\n",
       "    <tr>\n",
       "      <th>2</th>\n",
       "      <td>CAMIH</td>\n",
       "      <td>GraphAligner</td>\n",
       "      <td>303.22</td>\n",
       "      <td>3340419072</td>\n",
       "    </tr>\n",
       "  </tbody>\n",
       "</table>\n",
       "</div>"
      ],
      "text/plain": [
       "   Graph      Software     Time      Memory\n",
       "0  CAMIH       Bandage    93.94  2304229376\n",
       "1  CAMIH     SPALigner  1139.98  2934415360\n",
       "2  CAMIH  GraphAligner   303.22  3340419072"
      ]
     },
     "execution_count": 5,
     "metadata": {},
     "output_type": "execute_result"
    }
   ],
   "source": [
    "CAMIH_df"
   ]
  },
  {
   "cell_type": "code",
   "execution_count": 6,
   "id": "56901ed3",
   "metadata": {},
   "outputs": [
    {
     "data": {
      "text/html": [
       "<div>\n",
       "<style scoped>\n",
       "    .dataframe tbody tr th:only-of-type {\n",
       "        vertical-align: middle;\n",
       "    }\n",
       "\n",
       "    .dataframe tbody tr th {\n",
       "        vertical-align: top;\n",
       "    }\n",
       "\n",
       "    .dataframe thead th {\n",
       "        text-align: right;\n",
       "    }\n",
       "</style>\n",
       "<table border=\"1\" class=\"dataframe\">\n",
       "  <thead>\n",
       "    <tr style=\"text-align: right;\">\n",
       "      <th></th>\n",
       "      <th>Graph</th>\n",
       "      <th>Software</th>\n",
       "      <th>Time</th>\n",
       "      <th>Memory</th>\n",
       "    </tr>\n",
       "  </thead>\n",
       "  <tbody>\n",
       "    <tr>\n",
       "      <th>3</th>\n",
       "      <td>Real</td>\n",
       "      <td>Bandage</td>\n",
       "      <td>379.45</td>\n",
       "      <td>2218000384</td>\n",
       "    </tr>\n",
       "    <tr>\n",
       "      <th>4</th>\n",
       "      <td>Real</td>\n",
       "      <td>SPALigner</td>\n",
       "      <td>3449.43</td>\n",
       "      <td>3685453824</td>\n",
       "    </tr>\n",
       "    <tr>\n",
       "      <th>5</th>\n",
       "      <td>Real</td>\n",
       "      <td>GraphAligner</td>\n",
       "      <td>952.83</td>\n",
       "      <td>3815079936</td>\n",
       "    </tr>\n",
       "  </tbody>\n",
       "</table>\n",
       "</div>"
      ],
      "text/plain": [
       "  Graph      Software     Time      Memory\n",
       "3  Real       Bandage   379.45  2218000384\n",
       "4  Real     SPALigner  3449.43  3685453824\n",
       "5  Real  GraphAligner   952.83  3815079936"
      ]
     },
     "execution_count": 6,
     "metadata": {},
     "output_type": "execute_result"
    }
   ],
   "source": [
    "# Extract rows for SPAligner\n",
    "Real_df = Plot_1[Plot_1['Graph'] == 'Real']\n",
    "#Add the\n",
    "Real_df"
   ]
  },
  {
   "cell_type": "code",
   "execution_count": 7,
   "id": "c1237690",
   "metadata": {},
   "outputs": [
    {
     "data": {
      "text/html": [
       "<div>\n",
       "<style scoped>\n",
       "    .dataframe tbody tr th:only-of-type {\n",
       "        vertical-align: middle;\n",
       "    }\n",
       "\n",
       "    .dataframe tbody tr th {\n",
       "        vertical-align: top;\n",
       "    }\n",
       "\n",
       "    .dataframe thead th {\n",
       "        text-align: right;\n",
       "    }\n",
       "</style>\n",
       "<table border=\"1\" class=\"dataframe\">\n",
       "  <thead>\n",
       "    <tr style=\"text-align: right;\">\n",
       "      <th></th>\n",
       "      <th>Graph</th>\n",
       "      <th>Software</th>\n",
       "      <th>Time</th>\n",
       "      <th>Memory</th>\n",
       "    </tr>\n",
       "  </thead>\n",
       "  <tbody>\n",
       "    <tr>\n",
       "      <th>6</th>\n",
       "      <td>111</td>\n",
       "      <td>Bandage</td>\n",
       "      <td>0.07</td>\n",
       "      <td>14532608</td>\n",
       "    </tr>\n",
       "    <tr>\n",
       "      <th>7</th>\n",
       "      <td>111</td>\n",
       "      <td>SPALigner</td>\n",
       "      <td>3.72</td>\n",
       "      <td>172589056</td>\n",
       "    </tr>\n",
       "    <tr>\n",
       "      <th>8</th>\n",
       "      <td>111</td>\n",
       "      <td>GraphAligner</td>\n",
       "      <td>4.49</td>\n",
       "      <td>120098816</td>\n",
       "    </tr>\n",
       "  </tbody>\n",
       "</table>\n",
       "</div>"
      ],
      "text/plain": [
       "  Graph      Software  Time     Memory\n",
       "6   111       Bandage  0.07   14532608\n",
       "7   111     SPALigner  3.72  172589056\n",
       "8   111  GraphAligner  4.49  120098816"
      ]
     },
     "execution_count": 7,
     "metadata": {},
     "output_type": "execute_result"
    }
   ],
   "source": [
    "# Extract rows for GraphAligner\n",
    "graph_df = Plot_1[Plot_1['Graph'] == '111']\n",
    "graph_df"
   ]
  },
  {
   "cell_type": "code",
   "execution_count": 10,
   "id": "af851317",
   "metadata": {},
   "outputs": [],
   "source": [
    "import matplotlib.pyplot as plt"
   ]
  },
  {
   "cell_type": "code",
   "execution_count": 11,
   "id": "1b64781f",
   "metadata": {},
   "outputs": [
    {
     "data": {
      "image/png": "[encoded data removed]",
      "text/plain": [
       "<Figure size 640x480 with 1 Axes>"
      ]
     },
     "metadata": {},
     "output_type": "display_data"
    }
   ],
   "source": [
    "# Group the data by Software and calculate the mean time for each software\n",
    "software_times_CAMIH = CAMIH_df.groupby('Software')['Time'].mean()\n",
    "\n",
    "# Plotting the bar chart\n",
    "plt.bar(software_times_CAMIH.index, software_times_CAMIH.values)\n",
    "plt.xlabel('Software')\n",
    "plt.ylabel('Time/s')\n",
    "plt.title('Time taken by each software for the graph CAMIH')\n",
    "plt.xticks(rotation=45)\n",
    "\n",
    "# Display the plot\n",
    "plt.show()"
   ]
  },
  {
   "cell_type": "code",
   "execution_count": 12,
   "id": "8f30984a",
   "metadata": {},
   "outputs": [
    {
     "data": {
      "image/png": "[encoded data removed]",
      "text/plain": [
       "<Figure size 640x480 with 1 Axes>"
      ]
     },
     "metadata": {},
     "output_type": "display_data"
    }
   ],
   "source": [
    "# Group the data by Software and calculate the mean time for each software\n",
    "software_Memory_CAMIH = CAMIH_df.groupby('Software')['Memory'].mean()\n",
    "\n",
    "# Plotting the bar chart\n",
    "plt.bar(software_Memory_CAMIH.index, software_Memory_CAMIH.values)\n",
    "plt.xlabel('Software')\n",
    "plt.ylabel('Memory')\n",
    "plt.title('Memory  used by each software for the graph CAMIH')\n",
    "plt.xticks(rotation=45)\n",
    "\n",
    "# Display the plot\n",
    "plt.show()"
   ]
  },
  {
   "cell_type": "code",
   "execution_count": null,
   "id": "60a3c996",
   "metadata": {},
   "outputs": [],
   "source": []
  }
 ],
 "metadata": {
  "kernelspec": {
   "display_name": "Python 3 (ipykernel)",
   "language": "python",
   "name": "python3"
  },
  "language_info": {
   "codemirror_mode": {
    "name": "ipython",
    "version": 3
   },
   "file_extension": ".py",
   "mimetype": "text/x-python",
   "name": "python",
   "nbconvert_exporter": "python",
   "pygments_lexer": "ipython3",
   "version": "3.10.9"
  }
 },
 "nbformat": 4,
 "nbformat_minor": 5
}
