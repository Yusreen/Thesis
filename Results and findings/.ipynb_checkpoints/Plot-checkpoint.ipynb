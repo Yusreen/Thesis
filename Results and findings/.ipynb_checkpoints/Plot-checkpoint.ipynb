{
 "cells": [
  {
   "cell_type": "code",
   "execution_count": 19,
   "id": "689ba6ba",
   "metadata": {},
   "outputs": [],
   "source": [
    "# import the libraries\n",
    "import numpy as np\n",
    "import pandas as pd\n",
    "import re \n",
    "from Bio import SeqIO\n",
    "from collections import defaultdict\n",
    "import matplotlib.pyplot as plt\n",
    "import seaborn as sns\n"
   ]
  },
  {
   "cell_type": "code",
   "execution_count": 20,
   "id": "cdcaff07",
   "metadata": {},
   "outputs": [],
   "source": [
    "# Create a dataframe for Plot_1_1_1\n",
    "Plot_1= pd.read_csv('PlotCompiled.tsv', sep='\\t')"
   ]
  },
  {
   "cell_type": "code",
   "execution_count": 21,
   "id": "7f437874",
   "metadata": {},
   "outputs": [
    {
     "data": {
      "text/html": [
       "<div>\n",
       "<style scoped>\n",
       "    .dataframe tbody tr th:only-of-type {\n",
       "        vertical-align: middle;\n",
       "    }\n",
       "\n",
       "    .dataframe tbody tr th {\n",
       "        vertical-align: top;\n",
       "    }\n",
       "\n",
       "    .dataframe thead th {\n",
       "        text-align: right;\n",
       "    }\n",
       "</style>\n",
       "<table border=\"1\" class=\"dataframe\">\n",
       "  <thead>\n",
       "    <tr style=\"text-align: right;\">\n",
       "      <th></th>\n",
       "      <th>Graph</th>\n",
       "      <th>Software</th>\n",
       "      <th>Time</th>\n",
       "      <th>Memory</th>\n",
       "    </tr>\n",
       "  </thead>\n",
       "  <tbody>\n",
       "    <tr>\n",
       "      <th>0</th>\n",
       "      <td>CAMIH</td>\n",
       "      <td>Bandage</td>\n",
       "      <td>93.94</td>\n",
       "      <td>2304229376</td>\n",
       "    </tr>\n",
       "    <tr>\n",
       "      <th>1</th>\n",
       "      <td>CAMIH</td>\n",
       "      <td>SPALigner</td>\n",
       "      <td>1139.98</td>\n",
       "      <td>2934415360</td>\n",
       "    </tr>\n",
       "    <tr>\n",
       "      <th>2</th>\n",
       "      <td>CAMIH</td>\n",
       "      <td>GraphAligner</td>\n",
       "      <td>303.22</td>\n",
       "      <td>3340419072</td>\n",
       "    </tr>\n",
       "    <tr>\n",
       "      <th>3</th>\n",
       "      <td>Real</td>\n",
       "      <td>Bandage</td>\n",
       "      <td>379.45</td>\n",
       "      <td>2218000384</td>\n",
       "    </tr>\n",
       "    <tr>\n",
       "      <th>4</th>\n",
       "      <td>Real</td>\n",
       "      <td>SPALigner</td>\n",
       "      <td>3449.43</td>\n",
       "      <td>3685453824</td>\n",
       "    </tr>\n",
       "    <tr>\n",
       "      <th>5</th>\n",
       "      <td>Real</td>\n",
       "      <td>GraphAligner</td>\n",
       "      <td>952.83</td>\n",
       "      <td>3815079936</td>\n",
       "    </tr>\n",
       "    <tr>\n",
       "      <th>6</th>\n",
       "      <td>111</td>\n",
       "      <td>Bandage</td>\n",
       "      <td>0.07</td>\n",
       "      <td>14532608</td>\n",
       "    </tr>\n",
       "    <tr>\n",
       "      <th>7</th>\n",
       "      <td>111</td>\n",
       "      <td>SPALigner</td>\n",
       "      <td>3.72</td>\n",
       "      <td>172589056</td>\n",
       "    </tr>\n",
       "    <tr>\n",
       "      <th>8</th>\n",
       "      <td>111</td>\n",
       "      <td>GraphAligner</td>\n",
       "      <td>4.49</td>\n",
       "      <td>120098816</td>\n",
       "    </tr>\n",
       "    <tr>\n",
       "      <th>9</th>\n",
       "      <td>CAMIM2</td>\n",
       "      <td>Bandage</td>\n",
       "      <td>44.33</td>\n",
       "      <td>1957625856</td>\n",
       "    </tr>\n",
       "    <tr>\n",
       "      <th>10</th>\n",
       "      <td>CAMIM2</td>\n",
       "      <td>SPALigner</td>\n",
       "      <td>739.39</td>\n",
       "      <td>2288353280</td>\n",
       "    </tr>\n",
       "    <tr>\n",
       "      <th>11</th>\n",
       "      <td>CAMIM2</td>\n",
       "      <td>GraphAligner</td>\n",
       "      <td>213.53</td>\n",
       "      <td>2709143552</td>\n",
       "    </tr>\n",
       "  </tbody>\n",
       "</table>\n",
       "</div>"
      ],
      "text/plain": [
       "     Graph      Software     Time      Memory\n",
       "0    CAMIH       Bandage    93.94  2304229376\n",
       "1    CAMIH     SPALigner  1139.98  2934415360\n",
       "2    CAMIH  GraphAligner   303.22  3340419072\n",
       "3     Real       Bandage   379.45  2218000384\n",
       "4     Real     SPALigner  3449.43  3685453824\n",
       "5     Real  GraphAligner   952.83  3815079936\n",
       "6      111       Bandage     0.07    14532608\n",
       "7      111     SPALigner     3.72   172589056\n",
       "8      111  GraphAligner     4.49   120098816\n",
       "9   CAMIM2       Bandage    44.33  1957625856\n",
       "10  CAMIM2     SPALigner   739.39  2288353280\n",
       "11  CAMIM2  GraphAligner   213.53  2709143552"
      ]
     },
     "execution_count": 21,
     "metadata": {},
     "output_type": "execute_result"
    }
   ],
   "source": [
    "\n",
    "Plot_1"
   ]
  },
  {
   "cell_type": "code",
   "execution_count": 22,
   "id": "8dcd2da9",
   "metadata": {},
   "outputs": [],
   "source": [
    "# Extract rows for Bandage\n",
    "CAMIH_df = Plot_1[Plot_1['Graph'] == 'CAMIH']\n"
   ]
  },
  {
   "cell_type": "code",
   "execution_count": 23,
   "id": "e7604129",
   "metadata": {},
   "outputs": [
    {
     "data": {
      "text/html": [
       "<div>\n",
       "<style scoped>\n",
       "    .dataframe tbody tr th:only-of-type {\n",
       "        vertical-align: middle;\n",
       "    }\n",
       "\n",
       "    .dataframe tbody tr th {\n",
       "        vertical-align: top;\n",
       "    }\n",
       "\n",
       "    .dataframe thead th {\n",
       "        text-align: right;\n",
       "    }\n",
       "</style>\n",
       "<table border=\"1\" class=\"dataframe\">\n",
       "  <thead>\n",
       "    <tr style=\"text-align: right;\">\n",
       "      <th></th>\n",
       "      <th>Graph</th>\n",
       "      <th>Software</th>\n",
       "      <th>Time</th>\n",
       "      <th>Memory</th>\n",
       "    </tr>\n",
       "  </thead>\n",
       "  <tbody>\n",
       "    <tr>\n",
       "      <th>0</th>\n",
       "      <td>CAMIH</td>\n",
       "      <td>Bandage</td>\n",
       "      <td>93.94</td>\n",
       "      <td>2304229376</td>\n",
       "    </tr>\n",
       "    <tr>\n",
       "      <th>1</th>\n",
       "      <td>CAMIH</td>\n",
       "      <td>SPALigner</td>\n",
       "      <td>1139.98</td>\n",
       "      <td>2934415360</td>\n",
       "    </tr>\n",
       "    <tr>\n",
       "      <th>2</th>\n",
       "      <td>CAMIH</td>\n",
       "      <td>GraphAligner</td>\n",
       "      <td>303.22</td>\n",
       "      <td>3340419072</td>\n",
       "    </tr>\n",
       "  </tbody>\n",
       "</table>\n",
       "</div>"
      ],
      "text/plain": [
       "   Graph      Software     Time      Memory\n",
       "0  CAMIH       Bandage    93.94  2304229376\n",
       "1  CAMIH     SPALigner  1139.98  2934415360\n",
       "2  CAMIH  GraphAligner   303.22  3340419072"
      ]
     },
     "execution_count": 23,
     "metadata": {},
     "output_type": "execute_result"
    }
   ],
   "source": [
    "CAMIH_df"
   ]
  },
  {
   "cell_type": "code",
   "execution_count": 24,
   "id": "56901ed3",
   "metadata": {},
   "outputs": [
    {
     "data": {
      "text/html": [
       "<div>\n",
       "<style scoped>\n",
       "    .dataframe tbody tr th:only-of-type {\n",
       "        vertical-align: middle;\n",
       "    }\n",
       "\n",
       "    .dataframe tbody tr th {\n",
       "        vertical-align: top;\n",
       "    }\n",
       "\n",
       "    .dataframe thead th {\n",
       "        text-align: right;\n",
       "    }\n",
       "</style>\n",
       "<table border=\"1\" class=\"dataframe\">\n",
       "  <thead>\n",
       "    <tr style=\"text-align: right;\">\n",
       "      <th></th>\n",
       "      <th>Graph</th>\n",
       "      <th>Software</th>\n",
       "      <th>Time</th>\n",
       "      <th>Memory</th>\n",
       "    </tr>\n",
       "  </thead>\n",
       "  <tbody>\n",
       "    <tr>\n",
       "      <th>3</th>\n",
       "      <td>Real</td>\n",
       "      <td>Bandage</td>\n",
       "      <td>379.45</td>\n",
       "      <td>2218000384</td>\n",
       "    </tr>\n",
       "    <tr>\n",
       "      <th>4</th>\n",
       "      <td>Real</td>\n",
       "      <td>SPALigner</td>\n",
       "      <td>3449.43</td>\n",
       "      <td>3685453824</td>\n",
       "    </tr>\n",
       "    <tr>\n",
       "      <th>5</th>\n",
       "      <td>Real</td>\n",
       "      <td>GraphAligner</td>\n",
       "      <td>952.83</td>\n",
       "      <td>3815079936</td>\n",
       "    </tr>\n",
       "  </tbody>\n",
       "</table>\n",
       "</div>"
      ],
      "text/plain": [
       "  Graph      Software     Time      Memory\n",
       "3  Real       Bandage   379.45  2218000384\n",
       "4  Real     SPALigner  3449.43  3685453824\n",
       "5  Real  GraphAligner   952.83  3815079936"
      ]
     },
     "execution_count": 24,
     "metadata": {},
     "output_type": "execute_result"
    }
   ],
   "source": [
    "# Extract rows for SPAligner\n",
    "Real_df = Plot_1[Plot_1['Graph'] == 'Real']\n",
    "#Add the\n",
    "Real_df"
   ]
  },
  {
   "cell_type": "code",
   "execution_count": 25,
   "id": "c1237690",
   "metadata": {},
   "outputs": [
    {
     "data": {
      "text/html": [
       "<div>\n",
       "<style scoped>\n",
       "    .dataframe tbody tr th:only-of-type {\n",
       "        vertical-align: middle;\n",
       "    }\n",
       "\n",
       "    .dataframe tbody tr th {\n",
       "        vertical-align: top;\n",
       "    }\n",
       "\n",
       "    .dataframe thead th {\n",
       "        text-align: right;\n",
       "    }\n",
       "</style>\n",
       "<table border=\"1\" class=\"dataframe\">\n",
       "  <thead>\n",
       "    <tr style=\"text-align: right;\">\n",
       "      <th></th>\n",
       "      <th>Graph</th>\n",
       "      <th>Software</th>\n",
       "      <th>Time</th>\n",
       "      <th>Memory</th>\n",
       "    </tr>\n",
       "  </thead>\n",
       "  <tbody>\n",
       "    <tr>\n",
       "      <th>6</th>\n",
       "      <td>111</td>\n",
       "      <td>Bandage</td>\n",
       "      <td>0.07</td>\n",
       "      <td>14532608</td>\n",
       "    </tr>\n",
       "    <tr>\n",
       "      <th>7</th>\n",
       "      <td>111</td>\n",
       "      <td>SPALigner</td>\n",
       "      <td>3.72</td>\n",
       "      <td>172589056</td>\n",
       "    </tr>\n",
       "    <tr>\n",
       "      <th>8</th>\n",
       "      <td>111</td>\n",
       "      <td>GraphAligner</td>\n",
       "      <td>4.49</td>\n",
       "      <td>120098816</td>\n",
       "    </tr>\n",
       "  </tbody>\n",
       "</table>\n",
       "</div>"
      ],
      "text/plain": [
       "  Graph      Software  Time     Memory\n",
       "6   111       Bandage  0.07   14532608\n",
       "7   111     SPALigner  3.72  172589056\n",
       "8   111  GraphAligner  4.49  120098816"
      ]
     },
     "execution_count": 25,
     "metadata": {},
     "output_type": "execute_result"
    }
   ],
   "source": [
    "# Extract rows for GraphAligner\n",
    "graph_df = Plot_1[Plot_1['Graph'] == '111']\n",
    "graph_df"
   ]
  },
  {
   "cell_type": "code",
   "execution_count": 26,
   "id": "58228368",
   "metadata": {},
   "outputs": [
    {
     "data": {
      "text/html": [
       "<div>\n",
       "<style scoped>\n",
       "    .dataframe tbody tr th:only-of-type {\n",
       "        vertical-align: middle;\n",
       "    }\n",
       "\n",
       "    .dataframe tbody tr th {\n",
       "        vertical-align: top;\n",
       "    }\n",
       "\n",
       "    .dataframe thead th {\n",
       "        text-align: right;\n",
       "    }\n",
       "</style>\n",
       "<table border=\"1\" class=\"dataframe\">\n",
       "  <thead>\n",
       "    <tr style=\"text-align: right;\">\n",
       "      <th></th>\n",
       "      <th>Graph</th>\n",
       "      <th>Software</th>\n",
       "      <th>Time</th>\n",
       "      <th>Memory</th>\n",
       "    </tr>\n",
       "  </thead>\n",
       "  <tbody>\n",
       "    <tr>\n",
       "      <th>9</th>\n",
       "      <td>CAMIM2</td>\n",
       "      <td>Bandage</td>\n",
       "      <td>44.33</td>\n",
       "      <td>1957625856</td>\n",
       "    </tr>\n",
       "    <tr>\n",
       "      <th>10</th>\n",
       "      <td>CAMIM2</td>\n",
       "      <td>SPALigner</td>\n",
       "      <td>739.39</td>\n",
       "      <td>2288353280</td>\n",
       "    </tr>\n",
       "    <tr>\n",
       "      <th>11</th>\n",
       "      <td>CAMIM2</td>\n",
       "      <td>GraphAligner</td>\n",
       "      <td>213.53</td>\n",
       "      <td>2709143552</td>\n",
       "    </tr>\n",
       "  </tbody>\n",
       "</table>\n",
       "</div>"
      ],
      "text/plain": [
       "     Graph      Software    Time      Memory\n",
       "9   CAMIM2       Bandage   44.33  1957625856\n",
       "10  CAMIM2     SPALigner  739.39  2288353280\n",
       "11  CAMIM2  GraphAligner  213.53  2709143552"
      ]
     },
     "execution_count": 26,
     "metadata": {},
     "output_type": "execute_result"
    }
   ],
   "source": [
    "# Extract rows for GraphAligner\n",
    "CAMIM2_df = Plot_1[Plot_1['Graph'] == 'CAMIM2']\n",
    "CAMIM2_df"
   ]
  },
  {
   "cell_type": "markdown",
   "id": "267fd291",
   "metadata": {},
   "source": [
    "## Plot the time and memory for CAMIH"
   ]
  },
  {
   "cell_type": "code",
   "execution_count": 37,
   "id": "bb36eca3",
   "metadata": {},
   "outputs": [
    {
     "data": {
      "image/png": "[encoded data removed]",
      "text/plain": [
       "<Figure size 1000x800 with 1 Axes>"
      ]
     },
     "metadata": {},
     "output_type": "display_data"
    }
   ],
   "source": [
    "\n",
    "\n",
    "# Group the \"Time\" values by \"Software\" column\n",
    "grouped_data = [CAMIH_df['Time'][CAMIH_df['Software'] == software].values for software in CAMIH_df['Software'].unique()]\n",
    "\n",
    "# Create the box plot\n",
    "plt.figure(figsize=(10, 8))\n",
    "plt.boxplot(grouped_data, labels=CAMIH_df['Software'].unique(),patch_artist=True, widths=0.6)\n",
    "plt.xlabel('Software')\n",
    "plt.ylabel('Time')\n",
    "plt.title('Box Plot of Time by Software')\n",
    "plt.show()"
   ]
  },
  {
   "cell_type": "code",
   "execution_count": null,
   "id": "60a3c996",
   "metadata": {},
   "outputs": [],
   "source": [
    "# Group the data by Software and calculate the mean memory for each software\n",
    "software_Memory_CAMIH = CAMIH_df.groupby('Software')['Memory'].mean()\n",
    "\n",
    "# Define the colors for each software\n",
    "colors = ['red', 'green', 'blue']\n",
    "\n",
    "# Plotting the bar chart\n",
    "plt.bar(software_Memory_CAMIH.index, software_Memory_CAMIH.values, color=colors)\n",
    "plt.xlabel('Software')\n",
    "plt.ylabel('Memory')\n",
    "plt.title('Memory Used by Each Software for the graph CAMIH')\n",
    "plt.xticks(rotation=45)\n",
    "\n",
    "plt.savefig('Plot/graph_CAMIH_memory.png')\n",
    "\n",
    "# Display the plot\n",
    "plt.show()"
   ]
  },
  {
   "cell_type": "markdown",
   "id": "1919f6b0",
   "metadata": {},
   "source": [
    "## Plot the time and memory for 1_1_1"
   ]
  },
  {
   "cell_type": "code",
   "execution_count": null,
   "id": "ff7f0e36",
   "metadata": {},
   "outputs": [],
   "source": [
    "# Group the data by Software and calculate the mean time for each software\n",
    "software_times_111 = graph_df.groupby('Software')['Time'].mean()\n",
    "colors = ['red', 'green', 'blue']\n",
    "# Plotting the bar chart\n",
    "plt.bar(software_times_111.index, software_times_111.values,color=colors)\n",
    "plt.xlabel('Software')\n",
    "plt.ylabel('Time/s')\n",
    "plt.title('Time taken by each software for the graph 1_1_1 in s')\n",
    "plt.xticks(rotation=45)\n",
    "\n",
    "plt.savefig('Plot/graph_111_time.png')\n",
    "# Display the plot\n",
    "plt.show()"
   ]
  },
  {
   "cell_type": "code",
   "execution_count": null,
   "id": "40a70485",
   "metadata": {},
   "outputs": [],
   "source": [
    "# Group the data by Software and calculate the mean memory for each software\n",
    "software_Memory_111 = graph_df.groupby('Software')['Memory'].mean()\n",
    "\n",
    "# Define the colors for each software\n",
    "colors = ['red', 'green', 'blue']\n",
    "\n",
    "# Plotting the bar chart\n",
    "plt.bar(software_Memory_111.index, software_Memory_111.values, color=colors)\n",
    "plt.xlabel('Software')\n",
    "plt.ylabel('Memory')\n",
    "plt.title('Memory Used by Each Software for the graph 111')\n",
    "plt.xticks(rotation=45)\n",
    "\n",
    "plt.savefig('Plot/graph_111_memory.png')\n",
    "\n",
    "# Display the plot\n",
    "plt.show()"
   ]
  },
  {
   "cell_type": "markdown",
   "id": "3ca31b59",
   "metadata": {},
   "source": [
    "   ## Plot the time and memory for CAMIM2"
   ]
  },
  {
   "cell_type": "code",
   "execution_count": null,
   "id": "0641aa76",
   "metadata": {},
   "outputs": [],
   "source": [
    "# Group the data by Software and calculate the mean time for each software\n",
    "software_times_CAMIM2 = CAMIM2_df.groupby('Software')['Time'].mean()\n",
    "colors = ['red', 'green', 'blue']\n",
    "# Plotting the bar chart\n",
    "plt.bar(software_times_CAMIM2.index, software_times_CAMIM2.values,color=colors)\n",
    "plt.xlabel('Software')\n",
    "plt.ylabel('Time/s')\n",
    "plt.title('Time taken by each software for the graph CAMIM2 in s')\n",
    "plt.xticks(rotation=45)\n",
    "\n",
    "plt.savefig('Plot/graph_CAMIM2_time.png')\n",
    "# Display the plot\n",
    "plt.show()"
   ]
  },
  {
   "cell_type": "code",
   "execution_count": null,
   "id": "958f6bd5",
   "metadata": {},
   "outputs": [],
   "source": [
    "# Group the data by Software and calculate the mean memory for each software\n",
    "software_Memory_CAMIM2 = CAMIM2_df.groupby('Software')['Memory'].mean()\n",
    "\n",
    "# Define the colors for each software\n",
    "colors = ['red', 'green', 'blue']\n",
    "\n",
    "# Plotting the bar chart\n",
    "plt.bar(software_Memory_CAMIM2 .index, software_Memory_CAMIM2 .values, color=colors)\n",
    "plt.xlabel('Software')\n",
    "plt.ylabel('Memory')\n",
    "plt.title('Memory Used by Each Software for the graph CAMIM2 ')\n",
    "plt.xticks(rotation=45)\n",
    "\n",
    "plt.savefig('Plot/graph_CAMIM2_memory.png')\n",
    "\n",
    "# Display the plot\n",
    "plt.show()"
   ]
  },
  {
   "cell_type": "markdown",
   "id": "938eccef",
   "metadata": {},
   "source": [
    "## Plot the time and memory for RealSample"
   ]
  },
  {
   "cell_type": "code",
   "execution_count": null,
   "id": "dcfc8136",
   "metadata": {},
   "outputs": [],
   "source": [
    "# Group the data by Software and calculate the mean time for each software\n",
    "software_times_Real = Real_df.groupby('Software')['Time'].mean()\n",
    "colors = ['red', 'green', 'blue']\n",
    "# Plotting the bar chart\n",
    "plt.bar(software_times_Real.index, software_times_Real.values,color=colors)\n",
    "plt.xlabel('Software')\n",
    "plt.ylabel('Time/s')\n",
    "plt.title('Time taken by each software for the graph Real in s')\n",
    "plt.xticks(rotation=45)\n",
    "\n",
    "plt.savefig('Plot/graph_Real_time.png')\n",
    "# Display the plot\n",
    "plt.show()"
   ]
  },
  {
   "cell_type": "code",
   "execution_count": null,
   "id": "b8d7f826",
   "metadata": {},
   "outputs": [],
   "source": [
    "# Group the data by Software and calculate the mean memory for each software\n",
    "software_Memory_Real = Real_df.groupby('Software')['Memory'].mean()\n",
    "\n",
    "# Define the colors for each software\n",
    "colors = ['red', 'green', 'blue']\n",
    "\n",
    "# Plotting the bar chart\n",
    "plt.bar(software_Memory_Real .index, software_Memory_Real .values, color=colors)\n",
    "plt.xlabel('Software')\n",
    "plt.ylabel('Memory')\n",
    "plt.title('Memory Used by Each Software for the graph Real ')\n",
    "plt.xticks(rotation=45)\n",
    "\n",
    "plt.savefig('Plot/graph_Real_memory.png')\n",
    "\n",
    "# Display the plot\n",
    "plt.show()"
   ]
  },
  {
   "cell_type": "code",
   "execution_count": null,
   "id": "45a1c34d",
   "metadata": {},
   "outputs": [],
   "source": []
  }
 ],
 "metadata": {
  "kernelspec": {
   "display_name": "Python 3 (ipykernel)",
   "language": "python",
   "name": "python3"
  },
  "language_info": {
   "codemirror_mode": {
    "name": "ipython",
    "version": 3
   },
   "file_extension": ".py",
   "mimetype": "text/x-python",
   "name": "python",
   "nbconvert_exporter": "python",
   "pygments_lexer": "ipython3",
   "version": "3.10.9"
  }
 },
 "nbformat": 4,
 "nbformat_minor": 5
}
