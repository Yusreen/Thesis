{
 "cells": [
  {
   "cell_type": "code",
   "execution_count": 1,
   "id": "05b20119",
   "metadata": {},
   "outputs": [],
   "source": [
    "import numpy as np\n",
    "import pandas as pd\n",
    "import re "
   ]
  },
  {
   "cell_type": "code",
   "execution_count": 2,
   "id": "2310e2d5",
   "metadata": {},
   "outputs": [],
   "source": [
    "#Create a dataframe for Bandage Combined1\n",
    "Bandage_Combined1= pd.read_csv('Bandageoutputcombined1.tsv', sep='\\t')"
   ]
  },
  {
   "cell_type": "code",
   "execution_count": null,
   "id": "75599d18",
   "metadata": {},
   "outputs": [],
   "source": [
    "Bandage_Combined1"
   ]
  },
  {
   "cell_type": "code",
   "execution_count": 3,
   "id": "06d2da1b",
   "metadata": {},
   "outputs": [],
   "source": [
    "#Create a dataframe for GraphAligner Combined1\n",
    "GraphAligner_Combined1=pd.read_csv('GraphAligneroutputcombined1.tsv', sep='\\t', names=[\"Query\", \"Query Length\", \"Query Start\", \n",
    "                                          \"Query End\",\"Strand Relative Length\",\"Path Matching\",\"Path Length\",\n",
    "                                         \"Start Position on Path\",\"End Position on Path\",\"Number of residues Matches\",\n",
    "                                         \"Alignment Back Length\",\"Mapping Quality\",\"Column 1\"])"
   ]
  },
  {
   "cell_type": "code",
   "execution_count": null,
   "id": "04db3dde",
   "metadata": {},
   "outputs": [],
   "source": [
    "GraphAligner_Combined1.head()\n"
   ]
  },
  {
   "cell_type": "code",
   "execution_count": 4,
   "id": "41d68a96",
   "metadata": {},
   "outputs": [],
   "source": [
    "#Format the Query column from  GraphAligner_Combined1 so that the Query column is the same as the one from Bandage\n",
    "pattern = r'\\[.*?\\]'\n",
    "def format_query(x):\n",
    "    return re.sub(pattern,\"\", x).rstrip()\n",
    "    \n",
    "\n",
    "\n",
    "GraphAligner_Combined1['Query'] = GraphAligner_Combined1['Query'].map(format_query)"
   ]
  },
  {
   "cell_type": "code",
   "execution_count": null,
   "id": "efdeb27f",
   "metadata": {},
   "outputs": [],
   "source": [
    "GraphAligner_Combined1"
   ]
  },
  {
   "cell_type": "code",
   "execution_count": 5,
   "id": "939fdb5b",
   "metadata": {},
   "outputs": [],
   "source": [
    "GraphAligner_Combined1['Path Matching'] = GraphAligner_Combined1['Path Matching'].str.replace('>', \"\")\n",
    "GraphAligner_Combined1['Path Matching'] = GraphAligner_Combined1['Path Matching'].str.replace('<', \"\")"
   ]
  },
  {
   "cell_type": "code",
   "execution_count": null,
   "id": "681de8c7",
   "metadata": {
    "scrolled": true
   },
   "outputs": [],
   "source": [
    "GraphAligner_Combined1.head()"
   ]
  },
  {
   "cell_type": "code",
   "execution_count": 6,
   "id": "1bd4fba1",
   "metadata": {},
   "outputs": [],
   "source": [
    "# Calculate the coverage for GraphAligner\n",
    "GraphAligner_Combined1[\"Coverage\"]=GraphAligner_Combined1[\"Alignment Back Length\"]/GraphAligner_Combined1[\"Query Length\"]*100"
   ]
  },
  {
   "cell_type": "code",
   "execution_count": null,
   "id": "9b6bcd50",
   "metadata": {
    "scrolled": true
   },
   "outputs": [],
   "source": [
    "GraphAligner_Combined1"
   ]
  },
  {
   "cell_type": "code",
   "execution_count": 7,
   "id": "fb53caaa",
   "metadata": {},
   "outputs": [],
   "source": [
    "#Drop the coverages that are < 50 from GraphAligner \n",
    "GraphAligner_Combined1.drop(GraphAligner_Combined1[GraphAligner_Combined1['Coverage'] < 50].index, inplace = True)"
   ]
  },
  {
   "cell_type": "code",
   "execution_count": null,
   "id": "45298774",
   "metadata": {},
   "outputs": [],
   "source": [
    "GraphAligner_Combined1"
   ]
  },
  {
   "cell_type": "code",
   "execution_count": 8,
   "id": "010536bd",
   "metadata": {},
   "outputs": [],
   "source": [
    "pattern1 = r'\\(.*?\\)'\n",
    "def format_path(x):\n",
    "    return re.sub(pattern1,\"\", x).rstrip()"
   ]
  },
  {
   "cell_type": "code",
   "execution_count": 9,
   "id": "7857ca46",
   "metadata": {},
   "outputs": [],
   "source": [
    "Bandage_Combined1['Path']=Bandage_Combined1['Path'].map(format_path)"
   ]
  },
  {
   "cell_type": "code",
   "execution_count": 10,
   "id": "7c6b7af0",
   "metadata": {},
   "outputs": [],
   "source": [
    "Bandage_Combined1['Path']=Bandage_Combined1['Path'].str.replace('+', \"\")\n",
    "Bandage_Combined1['Path']=Bandage_Combined1['Path'].str.replace('-', \"\")"
   ]
  },
  {
   "cell_type": "code",
   "execution_count": null,
   "id": "e41b2593",
   "metadata": {},
   "outputs": [],
   "source": [
    "Bandage_Combined1"
   ]
  },
  {
   "cell_type": "code",
   "execution_count": 11,
   "id": "c109facd",
   "metadata": {},
   "outputs": [],
   "source": [
    "GraphAligner_Combined_Query_Path=GraphAligner_Combined1[['Query','Path Matching']]"
   ]
  },
  {
   "cell_type": "code",
   "execution_count": null,
   "id": "6ba612f4",
   "metadata": {},
   "outputs": [],
   "source": [
    "GraphAligner_Combined_Query_Path"
   ]
  },
  {
   "cell_type": "code",
   "execution_count": 12,
   "id": "caf9a740",
   "metadata": {},
   "outputs": [],
   "source": [
    "Bandage_Combined_Query_Path=Bandage_Combined1[['Query','Path']]"
   ]
  },
  {
   "cell_type": "code",
   "execution_count": 16,
   "id": "a160f989",
   "metadata": {},
   "outputs": [
    {
     "data": {
      "text/html": [
       "<div>\n",
       "<style scoped>\n",
       "    .dataframe tbody tr th:only-of-type {\n",
       "        vertical-align: middle;\n",
       "    }\n",
       "\n",
       "    .dataframe tbody tr th {\n",
       "        vertical-align: top;\n",
       "    }\n",
       "\n",
       "    .dataframe thead th {\n",
       "        text-align: right;\n",
       "    }\n",
       "</style>\n",
       "<table border=\"1\" class=\"dataframe\">\n",
       "  <thead>\n",
       "    <tr style=\"text-align: right;\">\n",
       "      <th></th>\n",
       "      <th>Query</th>\n",
       "      <th>Path</th>\n",
       "    </tr>\n",
       "  </thead>\n",
       "  <tbody>\n",
       "    <tr>\n",
       "      <th>145</th>\n",
       "      <td>gb|AB023477|+|0-861|ARO:3001082|SHV-24</td>\n",
       "      <td>5151</td>\n",
       "    </tr>\n",
       "    <tr>\n",
       "      <th>385</th>\n",
       "      <td>gb|AB049569|+|0-861|ARO:3000958|TEM-91</td>\n",
       "      <td>5967</td>\n",
       "    </tr>\n",
       "    <tr>\n",
       "      <th>182</th>\n",
       "      <td>gb|AB302939|+|8-869|ARO:3001115|SHV-60</td>\n",
       "      <td>5151</td>\n",
       "    </tr>\n",
       "    <tr>\n",
       "      <th>77</th>\n",
       "      <td>gb|AB372881|+|8-869|ARO:3001160|SHV-111</td>\n",
       "      <td>5151</td>\n",
       "    </tr>\n",
       "    <tr>\n",
       "      <th>91</th>\n",
       "      <td>gb|AB551737|+|14-875|ARO:3001177|SHV-133</td>\n",
       "      <td>5151</td>\n",
       "    </tr>\n",
       "    <tr>\n",
       "      <th>...</th>\n",
       "      <td>...</td>\n",
       "      <td>...</td>\n",
       "    </tr>\n",
       "    <tr>\n",
       "      <th>297</th>\n",
       "      <td>gb|Y14574|+|0-861|ARO:3000888|TEM-17</td>\n",
       "      <td>5967</td>\n",
       "    </tr>\n",
       "    <tr>\n",
       "      <th>325</th>\n",
       "      <td>gb|Y17581|+|78-936|ARO:3000891|TEM-20</td>\n",
       "      <td>5967</td>\n",
       "    </tr>\n",
       "    <tr>\n",
       "      <th>333</th>\n",
       "      <td>gb|Y17582|+|0-858|ARO:3000892|TEM-21</td>\n",
       "      <td>5967</td>\n",
       "    </tr>\n",
       "    <tr>\n",
       "      <th>335</th>\n",
       "      <td>gb|Y17583|+|213-1071|ARO:3000893|TEM-22</td>\n",
       "      <td>5967</td>\n",
       "    </tr>\n",
       "    <tr>\n",
       "      <th>339</th>\n",
       "      <td>gb|Y17584|+|0-858|ARO:3000899|TEM-29</td>\n",
       "      <td>5967</td>\n",
       "    </tr>\n",
       "  </tbody>\n",
       "</table>\n",
       "<p>393 rows × 2 columns</p>\n",
       "</div>"
      ],
      "text/plain": [
       "                                        Query   Path\n",
       "145    gb|AB023477|+|0-861|ARO:3001082|SHV-24   5151\n",
       "385    gb|AB049569|+|0-861|ARO:3000958|TEM-91   5967\n",
       "182    gb|AB302939|+|8-869|ARO:3001115|SHV-60   5151\n",
       "77    gb|AB372881|+|8-869|ARO:3001160|SHV-111   5151\n",
       "91   gb|AB551737|+|14-875|ARO:3001177|SHV-133   5151\n",
       "..                                        ...    ...\n",
       "297      gb|Y14574|+|0-861|ARO:3000888|TEM-17   5967\n",
       "325     gb|Y17581|+|78-936|ARO:3000891|TEM-20   5967\n",
       "333      gb|Y17582|+|0-858|ARO:3000892|TEM-21   5967\n",
       "335   gb|Y17583|+|213-1071|ARO:3000893|TEM-22   5967\n",
       "339      gb|Y17584|+|0-858|ARO:3000899|TEM-29   5967\n",
       "\n",
       "[393 rows x 2 columns]"
      ]
     },
     "execution_count": 16,
     "metadata": {},
     "output_type": "execute_result"
    }
   ],
   "source": [
    "Bandage_Combined_Query_Path=Bandage_Combined_Query_Path.sort_values(by=['Query'])"
   ]
  },
  {
   "cell_type": "code",
   "execution_count": 17,
   "id": "058910a7",
   "metadata": {},
   "outputs": [
    {
     "data": {
      "text/html": [
       "<div>\n",
       "<style scoped>\n",
       "    .dataframe tbody tr th:only-of-type {\n",
       "        vertical-align: middle;\n",
       "    }\n",
       "\n",
       "    .dataframe tbody tr th {\n",
       "        vertical-align: top;\n",
       "    }\n",
       "\n",
       "    .dataframe thead th {\n",
       "        text-align: right;\n",
       "    }\n",
       "</style>\n",
       "<table border=\"1\" class=\"dataframe\">\n",
       "  <thead>\n",
       "    <tr style=\"text-align: right;\">\n",
       "      <th></th>\n",
       "      <th>Query</th>\n",
       "      <th>Path Matching</th>\n",
       "    </tr>\n",
       "  </thead>\n",
       "  <tbody>\n",
       "    <tr>\n",
       "      <th>132</th>\n",
       "      <td>gb|AB023477|+|0-861|ARO:3001082|SHV-24</td>\n",
       "      <td>5151</td>\n",
       "    </tr>\n",
       "    <tr>\n",
       "      <th>372</th>\n",
       "      <td>gb|AB049569|+|0-861|ARO:3000958|TEM-91</td>\n",
       "      <td>5967</td>\n",
       "    </tr>\n",
       "    <tr>\n",
       "      <th>169</th>\n",
       "      <td>gb|AB302939|+|8-869|ARO:3001115|SHV-60</td>\n",
       "      <td>5151</td>\n",
       "    </tr>\n",
       "    <tr>\n",
       "      <th>64</th>\n",
       "      <td>gb|AB372881|+|8-869|ARO:3001160|SHV-111</td>\n",
       "      <td>5151</td>\n",
       "    </tr>\n",
       "    <tr>\n",
       "      <th>78</th>\n",
       "      <td>gb|AB551737|+|14-875|ARO:3001177|SHV-133</td>\n",
       "      <td>5151</td>\n",
       "    </tr>\n",
       "    <tr>\n",
       "      <th>...</th>\n",
       "      <td>...</td>\n",
       "      <td>...</td>\n",
       "    </tr>\n",
       "    <tr>\n",
       "      <th>284</th>\n",
       "      <td>gb|Y14574|+|0-861|ARO:3000888|TEM-17</td>\n",
       "      <td>5967</td>\n",
       "    </tr>\n",
       "    <tr>\n",
       "      <th>312</th>\n",
       "      <td>gb|Y17581|+|78-936|ARO:3000891|TEM-20</td>\n",
       "      <td>5967</td>\n",
       "    </tr>\n",
       "    <tr>\n",
       "      <th>320</th>\n",
       "      <td>gb|Y17582|+|0-858|ARO:3000892|TEM-21</td>\n",
       "      <td>5967</td>\n",
       "    </tr>\n",
       "    <tr>\n",
       "      <th>322</th>\n",
       "      <td>gb|Y17583|+|213-1071|ARO:3000893|TEM-22</td>\n",
       "      <td>5967</td>\n",
       "    </tr>\n",
       "    <tr>\n",
       "      <th>326</th>\n",
       "      <td>gb|Y17584|+|0-858|ARO:3000899|TEM-29</td>\n",
       "      <td>5967</td>\n",
       "    </tr>\n",
       "  </tbody>\n",
       "</table>\n",
       "<p>378 rows × 2 columns</p>\n",
       "</div>"
      ],
      "text/plain": [
       "                                        Query Path Matching\n",
       "132    gb|AB023477|+|0-861|ARO:3001082|SHV-24          5151\n",
       "372    gb|AB049569|+|0-861|ARO:3000958|TEM-91          5967\n",
       "169    gb|AB302939|+|8-869|ARO:3001115|SHV-60          5151\n",
       "64    gb|AB372881|+|8-869|ARO:3001160|SHV-111          5151\n",
       "78   gb|AB551737|+|14-875|ARO:3001177|SHV-133          5151\n",
       "..                                        ...           ...\n",
       "284      gb|Y14574|+|0-861|ARO:3000888|TEM-17          5967\n",
       "312     gb|Y17581|+|78-936|ARO:3000891|TEM-20          5967\n",
       "320      gb|Y17582|+|0-858|ARO:3000892|TEM-21          5967\n",
       "322   gb|Y17583|+|213-1071|ARO:3000893|TEM-22          5967\n",
       "326      gb|Y17584|+|0-858|ARO:3000899|TEM-29          5967\n",
       "\n",
       "[378 rows x 2 columns]"
      ]
     },
     "execution_count": 17,
     "metadata": {},
     "output_type": "execute_result"
    }
   ],
   "source": [
    "GraphAligner_Combined_Query_Path=GraphAligner_Combined_Query_Path.sort_values(by=['Query'])"
   ]
  },
  {
   "cell_type": "code",
   "execution_count": 18,
   "id": "a897d54d",
   "metadata": {},
   "outputs": [],
   "source": [
    "#Use merge operation so that we have the sequences for both softwares for successful queries\n",
    "df=pd.merge(Bandage_Combined_Query_Path,GraphAligner_Combined_Query_Path, on='Query')\n",
    "#union\n",
    "df_union=pd.concat([Bandage_Combined_Query_Path,GraphAligner_Combined_Query_Path], axis=1)"
   ]
  },
  {
   "cell_type": "code",
   "execution_count": 19,
   "id": "3fba52dd",
   "metadata": {},
   "outputs": [
    {
     "data": {
      "text/html": [
       "<div>\n",
       "<style scoped>\n",
       "    .dataframe tbody tr th:only-of-type {\n",
       "        vertical-align: middle;\n",
       "    }\n",
       "\n",
       "    .dataframe tbody tr th {\n",
       "        vertical-align: top;\n",
       "    }\n",
       "\n",
       "    .dataframe thead th {\n",
       "        text-align: right;\n",
       "    }\n",
       "</style>\n",
       "<table border=\"1\" class=\"dataframe\">\n",
       "  <thead>\n",
       "    <tr style=\"text-align: right;\">\n",
       "      <th></th>\n",
       "      <th>Query</th>\n",
       "      <th>Path</th>\n",
       "      <th>Query</th>\n",
       "      <th>Path Matching</th>\n",
       "    </tr>\n",
       "  </thead>\n",
       "  <tbody>\n",
       "    <tr>\n",
       "      <th>0</th>\n",
       "      <td>gb|U59183|+|247-859|ARO:3002581|AAC(6')-Ib10</td>\n",
       "      <td>7593</td>\n",
       "      <td>gb|U59183|+|247-859|ARO:3002581|AAC(6')-Ib10</td>\n",
       "      <td>7593</td>\n",
       "    </tr>\n",
       "    <tr>\n",
       "      <th>1</th>\n",
       "      <td>gb|AY136758|+|377-947|ARO:3002582|AAC(6')-Ib11</td>\n",
       "      <td>7593</td>\n",
       "      <td>NaN</td>\n",
       "      <td>NaN</td>\n",
       "    </tr>\n",
       "    <tr>\n",
       "      <th>2</th>\n",
       "      <td>gb|FJ854362|+|1702-2257|ARO:3002576|AAC(6')-Ib3</td>\n",
       "      <td>7593</td>\n",
       "      <td>gb|AY136758|+|377-947|ARO:3002582|AAC(6')-Ib11</td>\n",
       "      <td>7593</td>\n",
       "    </tr>\n",
       "    <tr>\n",
       "      <th>3</th>\n",
       "      <td>gb|AF445082|+|2788-3343|ARO:3002577|AAC(6')-Ib4</td>\n",
       "      <td>7593</td>\n",
       "      <td>gb|FJ854362|+|1702-2257|ARO:3002576|AAC(6')-Ib3</td>\n",
       "      <td>7593</td>\n",
       "    </tr>\n",
       "    <tr>\n",
       "      <th>4</th>\n",
       "      <td>gb|AF043381|+|251-863|ARO:3002580|AAC(6')-Ib9</td>\n",
       "      <td>7593</td>\n",
       "      <td>gb|AF445082|+|2788-3343|ARO:3002577|AAC(6')-Ib4</td>\n",
       "      <td>7593</td>\n",
       "    </tr>\n",
       "    <tr>\n",
       "      <th>...</th>\n",
       "      <td>...</td>\n",
       "      <td>...</td>\n",
       "      <td>...</td>\n",
       "      <td>...</td>\n",
       "    </tr>\n",
       "    <tr>\n",
       "      <th>388</th>\n",
       "      <td>gb|AJ318094|+|0-861|ARO:3000961|TEM-94</td>\n",
       "      <td>5967</td>\n",
       "      <td>NaN</td>\n",
       "      <td>NaN</td>\n",
       "    </tr>\n",
       "    <tr>\n",
       "      <th>389</th>\n",
       "      <td>gb|AJ308558|+|181-1042|ARO:3000962|TEM-95</td>\n",
       "      <td>5967</td>\n",
       "      <td>NaN</td>\n",
       "      <td>NaN</td>\n",
       "    </tr>\n",
       "    <tr>\n",
       "      <th>390</th>\n",
       "      <td>gb|AY092401|+|0-861|ARO:3000963|TEM-96</td>\n",
       "      <td>5967</td>\n",
       "      <td>NaN</td>\n",
       "      <td>NaN</td>\n",
       "    </tr>\n",
       "    <tr>\n",
       "      <th>391</th>\n",
       "      <td>gb|AM990992.1|-|1001760-1003680|ARO:3000186|tetM</td>\n",
       "      <td>1107</td>\n",
       "      <td>NaN</td>\n",
       "      <td>NaN</td>\n",
       "    </tr>\n",
       "    <tr>\n",
       "      <th>392</th>\n",
       "      <td>gb|U00096|-|2098446-2099613|ARO:3003577|ugd</td>\n",
       "      <td>3493</td>\n",
       "      <td>NaN</td>\n",
       "      <td>NaN</td>\n",
       "    </tr>\n",
       "  </tbody>\n",
       "</table>\n",
       "<p>393 rows × 4 columns</p>\n",
       "</div>"
      ],
      "text/plain": [
       "                                                Query   Path   \n",
       "0        gb|U59183|+|247-859|ARO:3002581|AAC(6')-Ib10   7593  \\\n",
       "1      gb|AY136758|+|377-947|ARO:3002582|AAC(6')-Ib11   7593   \n",
       "2     gb|FJ854362|+|1702-2257|ARO:3002576|AAC(6')-Ib3   7593   \n",
       "3     gb|AF445082|+|2788-3343|ARO:3002577|AAC(6')-Ib4   7593   \n",
       "4       gb|AF043381|+|251-863|ARO:3002580|AAC(6')-Ib9   7593   \n",
       "..                                                ...    ...   \n",
       "388            gb|AJ318094|+|0-861|ARO:3000961|TEM-94   5967   \n",
       "389         gb|AJ308558|+|181-1042|ARO:3000962|TEM-95   5967   \n",
       "390            gb|AY092401|+|0-861|ARO:3000963|TEM-96   5967   \n",
       "391  gb|AM990992.1|-|1001760-1003680|ARO:3000186|tetM   1107   \n",
       "392       gb|U00096|-|2098446-2099613|ARO:3003577|ugd   3493   \n",
       "\n",
       "                                               Query Path Matching  \n",
       "0       gb|U59183|+|247-859|ARO:3002581|AAC(6')-Ib10          7593  \n",
       "1                                                NaN           NaN  \n",
       "2     gb|AY136758|+|377-947|ARO:3002582|AAC(6')-Ib11          7593  \n",
       "3    gb|FJ854362|+|1702-2257|ARO:3002576|AAC(6')-Ib3          7593  \n",
       "4    gb|AF445082|+|2788-3343|ARO:3002577|AAC(6')-Ib4          7593  \n",
       "..                                               ...           ...  \n",
       "388                                              NaN           NaN  \n",
       "389                                              NaN           NaN  \n",
       "390                                              NaN           NaN  \n",
       "391                                              NaN           NaN  \n",
       "392                                              NaN           NaN  \n",
       "\n",
       "[393 rows x 4 columns]"
      ]
     },
     "execution_count": 19,
     "metadata": {},
     "output_type": "execute_result"
    }
   ],
   "source": [
    "df_union"
   ]
  },
  {
   "cell_type": "code",
   "execution_count": null,
   "id": "6fbfbdb4",
   "metadata": {},
   "outputs": [],
   "source": [
    "df.rename(columns = {'Path':'Path_Bandage'}, inplace = True)\n",
    "df.rename(columns = {'Path Matching':'Path_GraphAligner'}, inplace = True)"
   ]
  },
  {
   "cell_type": "code",
   "execution_count": null,
   "id": "f3808dbd",
   "metadata": {},
   "outputs": [],
   "source": [
    "df"
   ]
  },
  {
   "cell_type": "code",
   "execution_count": null,
   "id": "25e5b41e",
   "metadata": {},
   "outputs": [],
   "source": [
    "df['Path_Bandage'] = df['Path_Bandage'].str.strip()\n",
    "df['Path_GraphAligner'] = df['Path_GraphAligner'].str.strip()"
   ]
  },
  {
   "cell_type": "code",
   "execution_count": null,
   "id": "fe9c2d73",
   "metadata": {
    "scrolled": true
   },
   "outputs": [],
   "source": [
    "df"
   ]
  },
  {
   "cell_type": "code",
   "execution_count": null,
   "id": "0cc1c170",
   "metadata": {},
   "outputs": [],
   "source": [
    "#Check for similar path for the queries\n",
    "df['Equal'] = np.where(df['Path_Bandage']==df['Path_GraphAligner'], \n",
    "                                           'yes', 'no')"
   ]
  },
  {
   "cell_type": "code",
   "execution_count": null,
   "id": "6b0732a1",
   "metadata": {},
   "outputs": [],
   "source": [
    "df"
   ]
  },
  {
   "cell_type": "code",
   "execution_count": null,
   "id": "1342324a",
   "metadata": {},
   "outputs": [],
   "source": [
    "df['Equal'].value_counts()"
   ]
  },
  {
   "cell_type": "code",
   "execution_count": null,
   "id": "c35c4d90",
   "metadata": {},
   "outputs": [],
   "source": [
    "#cHECK Start and end position"
   ]
  }
 ],
 "metadata": {
  "kernelspec": {
   "display_name": "Python 3 (ipykernel)",
   "language": "python",
   "name": "python3"
  },
  "language_info": {
   "codemirror_mode": {
    "name": "ipython",
    "version": 3
   },
   "file_extension": ".py",
   "mimetype": "text/x-python",
   "name": "python",
   "nbconvert_exporter": "python",
   "pygments_lexer": "ipython3",
   "version": "3.10.9"
  }
 },
 "nbformat": 4,
 "nbformat_minor": 5
}
