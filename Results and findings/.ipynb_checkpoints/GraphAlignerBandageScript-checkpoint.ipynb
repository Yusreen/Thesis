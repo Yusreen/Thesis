{
 "cells": [
  {
   "cell_type": "markdown",
   "id": "abb1e119",
   "metadata": {},
   "source": [
    "# This script is used to read and compare the results from Bandage and GraphAligner\n",
    "## Written by Yusreen Shah\n",
    "## Date: May 8th 2023"
   ]
  },
  {
   "cell_type": "code",
   "execution_count": 2,
   "id": "05b20119",
   "metadata": {},
   "outputs": [],
   "source": [
    "#Import the libraries\n",
    "import numpy as np\n",
    "import pandas as pd\n",
    "import re "
   ]
  },
  {
   "cell_type": "code",
   "execution_count": 3,
   "id": "2310e2d5",
   "metadata": {},
   "outputs": [],
   "source": [
    "#Create a dataframe for Bandage Combined1\n",
    "Bandage_Combined1= pd.read_csv('Bandageoutputcombined1.tsv', sep='\\t')"
   ]
  },
  {
   "cell_type": "code",
   "execution_count": 4,
   "id": "06d2da1b",
   "metadata": {},
   "outputs": [],
   "source": [
    "#Create a dataframe for GraphAligner Combined1\n",
    "GraphAligner_Combined1=pd.read_csv('GraphAligneroutputcombined1.tsv', sep='\\t', names=[\"Query\", \"Query Length\", \"Query Start\", \n",
    "                                          \"Query End\",\"Strand Relative Length\",\"Path Matching\",\"Path Length\",\n",
    "                                         \"Start Position on Path\",\"End Position on Path\",\"Number of residues Matches\",\n",
    "                                         \"Alignment Back Length\",\"Mapping Quality\",\"Column 1\"])"
   ]
  },
  {
   "cell_type": "markdown",
   "id": "5a5ddf5f",
   "metadata": {},
   "source": [
    "## This section cleans the data from GraphAligner so that the columns can be compared easily."
   ]
  },
  {
   "cell_type": "code",
   "execution_count": 5,
   "id": "41d68a96",
   "metadata": {},
   "outputs": [],
   "source": [
    "#Format the Query column from  GraphAligner_Combined1 so that the Query column is the same as the one from Bandage\n",
    "pattern = r'\\[.*?\\]'\n",
    "def format_query(x):\n",
    "    return re.sub(pattern,\"\", x).rstrip()\n",
    "    \n",
    "\n",
    "\n",
    "GraphAligner_Combined1['Query'] = GraphAligner_Combined1['Query'].map(format_query)"
   ]
  },
  {
   "cell_type": "code",
   "execution_count": null,
   "id": "68844e44",
   "metadata": {},
   "outputs": [],
   "source": [
    "# Add Braces to the values that now have ','\n",
    "def remove_angle(value):\n",
    "    if '>' or '<' in value:\n",
    "        return value\n",
    "    else:\n",
    "        return value"
   ]
  },
  {
   "cell_type": "code",
   "execution_count": 6,
   "id": "939fdb5b",
   "metadata": {},
   "outputs": [],
   "source": [
    "GraphAligner_Combined1['Path Matching_1'] = GraphAligner_Combined1['Path Matching'].str.replace('>', \"\")\n",
    "#GraphAligner_Combined1['Path Matching_1'] = GraphAligner_Combined1['Path Matching'].str.replace('<', \"\")"
   ]
  },
  {
   "cell_type": "code",
   "execution_count": 7,
   "id": "ff254ed5",
   "metadata": {},
   "outputs": [
    {
     "data": {
      "text/html": [
       "<div>\n",
       "<style scoped>\n",
       "    .dataframe tbody tr th:only-of-type {\n",
       "        vertical-align: middle;\n",
       "    }\n",
       "\n",
       "    .dataframe tbody tr th {\n",
       "        vertical-align: top;\n",
       "    }\n",
       "\n",
       "    .dataframe thead th {\n",
       "        text-align: right;\n",
       "    }\n",
       "</style>\n",
       "<table border=\"1\" class=\"dataframe\">\n",
       "  <thead>\n",
       "    <tr style=\"text-align: right;\">\n",
       "      <th></th>\n",
       "      <th>Query</th>\n",
       "      <th>Query Length</th>\n",
       "      <th>Query Start</th>\n",
       "      <th>Query End</th>\n",
       "      <th>Strand Relative Length</th>\n",
       "      <th>Path Matching</th>\n",
       "      <th>Path Length</th>\n",
       "      <th>Start Position on Path</th>\n",
       "      <th>End Position on Path</th>\n",
       "      <th>Number of residues Matches</th>\n",
       "      <th>Alignment Back Length</th>\n",
       "      <th>Mapping Quality</th>\n",
       "      <th>Column 1</th>\n",
       "      <th>Path Matching_1</th>\n",
       "    </tr>\n",
       "  </thead>\n",
       "  <tbody>\n",
       "    <tr>\n",
       "      <th>0</th>\n",
       "      <td>gb|U59183|+|247-859|ARO:3002581|AAC(6')-Ib10</td>\n",
       "      <td>612</td>\n",
       "      <td>25</td>\n",
       "      <td>612</td>\n",
       "      <td>+</td>\n",
       "      <td>&gt;7593</td>\n",
       "      <td>2524</td>\n",
       "      <td>55</td>\n",
       "      <td>642</td>\n",
       "      <td>586</td>\n",
       "      <td>587</td>\n",
       "      <td>255</td>\n",
       "      <td>NM:i:1</td>\n",
       "      <td>&gt;7593</td>\n",
       "    </tr>\n",
       "    <tr>\n",
       "      <th>1</th>\n",
       "      <td>gb|U59183|+|247-859|ARO:3002581|AAC(6')-Ib10</td>\n",
       "      <td>612</td>\n",
       "      <td>2</td>\n",
       "      <td>18</td>\n",
       "      <td>+</td>\n",
       "      <td>&lt;1851</td>\n",
       "      <td>79238</td>\n",
       "      <td>37281</td>\n",
       "      <td>37296</td>\n",
       "      <td>15</td>\n",
       "      <td>16</td>\n",
       "      <td>255</td>\n",
       "      <td>NM:i:1</td>\n",
       "      <td>1851</td>\n",
       "    </tr>\n",
       "    <tr>\n",
       "      <th>2</th>\n",
       "      <td>gb|AY136758|+|377-947|ARO:3002582|AAC(6')-Ib11</td>\n",
       "      <td>570</td>\n",
       "      <td>20</td>\n",
       "      <td>570</td>\n",
       "      <td>+</td>\n",
       "      <td>&gt;7593</td>\n",
       "      <td>2524</td>\n",
       "      <td>92</td>\n",
       "      <td>642</td>\n",
       "      <td>547</td>\n",
       "      <td>550</td>\n",
       "      <td>255</td>\n",
       "      <td>NM:i:3</td>\n",
       "      <td>&gt;7593</td>\n",
       "    </tr>\n",
       "    <tr>\n",
       "      <th>3</th>\n",
       "      <td>gb|FJ854362|+|1702-2257|ARO:3002576|AAC(6')-Ib3</td>\n",
       "      <td>555</td>\n",
       "      <td>0</td>\n",
       "      <td>555</td>\n",
       "      <td>+</td>\n",
       "      <td>&gt;7593</td>\n",
       "      <td>2524</td>\n",
       "      <td>87</td>\n",
       "      <td>642</td>\n",
       "      <td>553</td>\n",
       "      <td>555</td>\n",
       "      <td>255</td>\n",
       "      <td>NM:i:2</td>\n",
       "      <td>&gt;7593</td>\n",
       "    </tr>\n",
       "    <tr>\n",
       "      <th>4</th>\n",
       "      <td>gb|AF445082|+|2788-3343|ARO:3002577|AAC(6')-Ib4</td>\n",
       "      <td>555</td>\n",
       "      <td>0</td>\n",
       "      <td>555</td>\n",
       "      <td>+</td>\n",
       "      <td>&gt;7593</td>\n",
       "      <td>2524</td>\n",
       "      <td>87</td>\n",
       "      <td>642</td>\n",
       "      <td>553</td>\n",
       "      <td>555</td>\n",
       "      <td>255</td>\n",
       "      <td>NM:i:2</td>\n",
       "      <td>&gt;7593</td>\n",
       "    </tr>\n",
       "    <tr>\n",
       "      <th>...</th>\n",
       "      <td>...</td>\n",
       "      <td>...</td>\n",
       "      <td>...</td>\n",
       "      <td>...</td>\n",
       "      <td>...</td>\n",
       "      <td>...</td>\n",
       "      <td>...</td>\n",
       "      <td>...</td>\n",
       "      <td>...</td>\n",
       "      <td>...</td>\n",
       "      <td>...</td>\n",
       "      <td>...</td>\n",
       "      <td>...</td>\n",
       "      <td>...</td>\n",
       "    </tr>\n",
       "    <tr>\n",
       "      <th>375</th>\n",
       "      <td>gb|AJ318094|+|0-861|ARO:3000961|TEM-94</td>\n",
       "      <td>861</td>\n",
       "      <td>0</td>\n",
       "      <td>861</td>\n",
       "      <td>+</td>\n",
       "      <td>&gt;5967</td>\n",
       "      <td>1044</td>\n",
       "      <td>36</td>\n",
       "      <td>897</td>\n",
       "      <td>852</td>\n",
       "      <td>861</td>\n",
       "      <td>255</td>\n",
       "      <td>NM:i:9</td>\n",
       "      <td>&gt;5967</td>\n",
       "    </tr>\n",
       "    <tr>\n",
       "      <th>376</th>\n",
       "      <td>gb|AJ308558|+|181-1042|ARO:3000962|TEM-95</td>\n",
       "      <td>861</td>\n",
       "      <td>0</td>\n",
       "      <td>861</td>\n",
       "      <td>+</td>\n",
       "      <td>&gt;5967</td>\n",
       "      <td>1044</td>\n",
       "      <td>36</td>\n",
       "      <td>897</td>\n",
       "      <td>859</td>\n",
       "      <td>861</td>\n",
       "      <td>255</td>\n",
       "      <td>NM:i:2</td>\n",
       "      <td>&gt;5967</td>\n",
       "    </tr>\n",
       "    <tr>\n",
       "      <th>377</th>\n",
       "      <td>gb|AY092401|+|0-861|ARO:3000963|TEM-96</td>\n",
       "      <td>861</td>\n",
       "      <td>0</td>\n",
       "      <td>861</td>\n",
       "      <td>+</td>\n",
       "      <td>&gt;5967</td>\n",
       "      <td>1044</td>\n",
       "      <td>36</td>\n",
       "      <td>897</td>\n",
       "      <td>858</td>\n",
       "      <td>861</td>\n",
       "      <td>255</td>\n",
       "      <td>NM:i:3</td>\n",
       "      <td>&gt;5967</td>\n",
       "    </tr>\n",
       "    <tr>\n",
       "      <th>378</th>\n",
       "      <td>gb|AM990992.1|-|1001760-1003680|ARO:3000186|tetM</td>\n",
       "      <td>1920</td>\n",
       "      <td>0</td>\n",
       "      <td>1920</td>\n",
       "      <td>+</td>\n",
       "      <td>&lt;1107</td>\n",
       "      <td>47514</td>\n",
       "      <td>33707</td>\n",
       "      <td>35627</td>\n",
       "      <td>1874</td>\n",
       "      <td>1920</td>\n",
       "      <td>255</td>\n",
       "      <td>NM:i:46</td>\n",
       "      <td>1107</td>\n",
       "    </tr>\n",
       "    <tr>\n",
       "      <th>379</th>\n",
       "      <td>gb|U00096|-|2098446-2099613|ARO:3003577|ugd</td>\n",
       "      <td>1167</td>\n",
       "      <td>0</td>\n",
       "      <td>1167</td>\n",
       "      <td>+</td>\n",
       "      <td>&lt;3493</td>\n",
       "      <td>11214</td>\n",
       "      <td>1619</td>\n",
       "      <td>2786</td>\n",
       "      <td>1136</td>\n",
       "      <td>1167</td>\n",
       "      <td>255</td>\n",
       "      <td>NM:i:31</td>\n",
       "      <td>3493</td>\n",
       "    </tr>\n",
       "  </tbody>\n",
       "</table>\n",
       "<p>380 rows × 14 columns</p>\n",
       "</div>"
      ],
      "text/plain": [
       "                                                Query  Query Length   \n",
       "0        gb|U59183|+|247-859|ARO:3002581|AAC(6')-Ib10           612  \\\n",
       "1        gb|U59183|+|247-859|ARO:3002581|AAC(6')-Ib10           612   \n",
       "2      gb|AY136758|+|377-947|ARO:3002582|AAC(6')-Ib11           570   \n",
       "3     gb|FJ854362|+|1702-2257|ARO:3002576|AAC(6')-Ib3           555   \n",
       "4     gb|AF445082|+|2788-3343|ARO:3002577|AAC(6')-Ib4           555   \n",
       "..                                                ...           ...   \n",
       "375            gb|AJ318094|+|0-861|ARO:3000961|TEM-94           861   \n",
       "376         gb|AJ308558|+|181-1042|ARO:3000962|TEM-95           861   \n",
       "377            gb|AY092401|+|0-861|ARO:3000963|TEM-96           861   \n",
       "378  gb|AM990992.1|-|1001760-1003680|ARO:3000186|tetM          1920   \n",
       "379       gb|U00096|-|2098446-2099613|ARO:3003577|ugd          1167   \n",
       "\n",
       "     Query Start  Query End Strand Relative Length Path Matching  Path Length   \n",
       "0             25        612                      +         >7593         2524  \\\n",
       "1              2         18                      +         <1851        79238   \n",
       "2             20        570                      +         >7593         2524   \n",
       "3              0        555                      +         >7593         2524   \n",
       "4              0        555                      +         >7593         2524   \n",
       "..           ...        ...                    ...           ...          ...   \n",
       "375            0        861                      +         >5967         1044   \n",
       "376            0        861                      +         >5967         1044   \n",
       "377            0        861                      +         >5967         1044   \n",
       "378            0       1920                      +         <1107        47514   \n",
       "379            0       1167                      +         <3493        11214   \n",
       "\n",
       "     Start Position on Path  End Position on Path  Number of residues Matches   \n",
       "0                        55                   642                         586  \\\n",
       "1                     37281                 37296                          15   \n",
       "2                        92                   642                         547   \n",
       "3                        87                   642                         553   \n",
       "4                        87                   642                         553   \n",
       "..                      ...                   ...                         ...   \n",
       "375                      36                   897                         852   \n",
       "376                      36                   897                         859   \n",
       "377                      36                   897                         858   \n",
       "378                   33707                 35627                        1874   \n",
       "379                    1619                  2786                        1136   \n",
       "\n",
       "     Alignment Back Length  Mapping Quality Column 1 Path Matching_1  \n",
       "0                      587              255   NM:i:1           >7593  \n",
       "1                       16              255   NM:i:1            1851  \n",
       "2                      550              255   NM:i:3           >7593  \n",
       "3                      555              255   NM:i:2           >7593  \n",
       "4                      555              255   NM:i:2           >7593  \n",
       "..                     ...              ...      ...             ...  \n",
       "375                    861              255   NM:i:9           >5967  \n",
       "376                    861              255   NM:i:2           >5967  \n",
       "377                    861              255   NM:i:3           >5967  \n",
       "378                   1920              255  NM:i:46            1107  \n",
       "379                   1167              255  NM:i:31            3493  \n",
       "\n",
       "[380 rows x 14 columns]"
      ]
     },
     "execution_count": 7,
     "metadata": {},
     "output_type": "execute_result"
    }
   ],
   "source": [
    "GraphAligner_Combined1['Path Matching_1'] = GraphAligner_Combined1['Path Matching'].str.replace('<', \"\")\n",
    "GraphAligner_Combined1"
   ]
  },
  {
   "cell_type": "code",
   "execution_count": null,
   "id": "ffd56d97",
   "metadata": {},
   "outputs": [],
   "source": [
    "GraphAligner_Combined1.to_csv(\"test_Grap_2.tsv\",sep='\\t')"
   ]
  },
  {
   "cell_type": "markdown",
   "id": "fa7c9fe5",
   "metadata": {},
   "source": [
    "## This section drops the  rows with coverages < 50 from GraphAligner_Combined1"
   ]
  },
  {
   "cell_type": "code",
   "execution_count": null,
   "id": "29653455",
   "metadata": {},
   "outputs": [],
   "source": [
    "# Calculate the coverage for GraphAligner\n",
    "GraphAligner_Combined1[\"Coverage\"]=GraphAligner_Combined1[\"Alignment Back Length\"]/GraphAligner_Combined1[\"Query Length\"]*100"
   ]
  },
  {
   "cell_type": "code",
   "execution_count": null,
   "id": "0dce22d5",
   "metadata": {},
   "outputs": [],
   "source": [
    "#Drop the coverages that are < 50 from GraphAligner \n",
    "GraphAligner_Combined1.drop(GraphAligner_Combined1[GraphAligner_Combined1['Coverage'] < 50].index, inplace = True)\n",
    "GraphAligner_Combined1\n",
    "GraphAligner_Combined1.to_csv(\"Test_com.tsv\", sep='\\t')"
   ]
  },
  {
   "cell_type": "markdown",
   "id": "67156161",
   "metadata": {},
   "source": [
    "## This section cleans the data from Bandage so that the  formatting of the path column is the same as the one in Graphaligner."
   ]
  },
  {
   "cell_type": "code",
   "execution_count": null,
   "id": "010536bd",
   "metadata": {},
   "outputs": [],
   "source": [
    "pattern1 = r'\\(.*?\\)'\n",
    "def format_path(x):\n",
    "    return re.sub(pattern1,\"\", x).rstrip()"
   ]
  },
  {
   "cell_type": "code",
   "execution_count": null,
   "id": "7857ca46",
   "metadata": {},
   "outputs": [],
   "source": [
    "Bandage_Combined1['Path']=Bandage_Combined1['Path'].map(format_path)"
   ]
  },
  {
   "cell_type": "code",
   "execution_count": null,
   "id": "7c6b7af0",
   "metadata": {},
   "outputs": [],
   "source": [
    "Bandage_Combined1['Path']=Bandage_Combined1['Path'].str.replace('+', \"\")\n",
    "Bandage_Combined1['Path']=Bandage_Combined1['Path'].str.replace('-', \"\")"
   ]
  },
  {
   "cell_type": "markdown",
   "id": "ec8660a7",
   "metadata": {},
   "source": [
    "## This section creates 2 dataframes so that it is easier to compare. The Query and Resulting path are kept.\n",
    "### GraphAligner_Combined_Query_Path\n",
    "### Bandage_Combined_Query_Path"
   ]
  },
  {
   "cell_type": "code",
   "execution_count": null,
   "id": "c109facd",
   "metadata": {},
   "outputs": [],
   "source": [
    "GraphAligner_Combined_Query_Path=GraphAligner_Combined1[['Query','Path Matching']]"
   ]
  },
  {
   "cell_type": "code",
   "execution_count": null,
   "id": "caf9a740",
   "metadata": {},
   "outputs": [],
   "source": [
    "Bandage_Combined_Query_Path=Bandage_Combined1[['Query','Path']]"
   ]
  },
  {
   "cell_type": "code",
   "execution_count": null,
   "id": "a160f989",
   "metadata": {},
   "outputs": [],
   "source": [
    "#Sort the values alphabetically.\n",
    "Bandage_Combined_Query_Path=Bandage_Combined_Query_Path.sort_values(by=['Query']).reset_index()"
   ]
  },
  {
   "cell_type": "code",
   "execution_count": null,
   "id": "7a6b63ab",
   "metadata": {},
   "outputs": [],
   "source": [
    "GraphAligner_Combined_Query_Path=GraphAligner_Combined_Query_Path.sort_values(by=['Query']).reset_index()"
   ]
  },
  {
   "cell_type": "markdown",
   "id": "7ee9a1d2",
   "metadata": {},
   "source": [
    "## This section creates df_union. The dataframe stores the Query and path from both software."
   ]
  },
  {
   "cell_type": "code",
   "execution_count": null,
   "id": "a897d54d",
   "metadata": {},
   "outputs": [],
   "source": [
    "#Use merge operation so that we have the sequences for both softwares for successful queries\n",
    "df=pd.merge(Bandage_Combined_Query_Path,GraphAligner_Combined_Query_Path, on='Query')\n",
    "#union\n",
    "#df_union=pd.concat([Bandage_Combined_Query_Path,GraphAligner_Combined_Query_Path], axis=1)\n",
    "df_union=pd.merge(Bandage_Combined_Query_Path,GraphAligner_Combined_Query_Path, on='Query',how=\"outer\")"
   ]
  },
  {
   "cell_type": "code",
   "execution_count": null,
   "id": "3fba52dd",
   "metadata": {},
   "outputs": [],
   "source": [
    "df_union"
   ]
  },
  {
   "cell_type": "code",
   "execution_count": null,
   "id": "6fbfbdb4",
   "metadata": {},
   "outputs": [],
   "source": [
    "df_union.rename(columns = {'Path':'Path_Bandage'}, inplace = True)\n",
    "df_union.rename(columns = {'Path Matching':'Path_GraphAligner'}, inplace = True)"
   ]
  },
  {
   "cell_type": "code",
   "execution_count": null,
   "id": "25e5b41e",
   "metadata": {},
   "outputs": [],
   "source": [
    "df_union['Path_Bandage'] = df_union['Path_Bandage'].str.replace(',',\"\").str.strip()\n",
    "df_union['Path_GraphAligner'] = df_union['Path_GraphAligner'].str.strip()\n"
   ]
  },
  {
   "cell_type": "code",
   "execution_count": null,
   "id": "40f8d95f",
   "metadata": {},
   "outputs": [],
   "source": [
    "df_union['Path_Bandage'] = df_union['Path_Bandage'].str.findall(r'[^\\s,]+').str.join('')"
   ]
  },
  {
   "cell_type": "markdown",
   "id": "f5a30a9c",
   "metadata": {},
   "source": [
    "## This section compares the  resulting paths for each query"
   ]
  },
  {
   "cell_type": "code",
   "execution_count": null,
   "id": "0cc1c170",
   "metadata": {},
   "outputs": [],
   "source": [
    "\n",
    "#Check for similar path for the queries\n",
    "df_union['Equal'] = np.where(df_union['Path_Bandage']==df_union['Path_GraphAligner'], \n",
    "                                           'yes', 'no')"
   ]
  },
  {
   "cell_type": "code",
   "execution_count": null,
   "id": "6b0732a1",
   "metadata": {},
   "outputs": [],
   "source": [
    "df_union"
   ]
  },
  {
   "cell_type": "markdown",
   "id": "09e701b0",
   "metadata": {},
   "source": [
    "### Print the yes if path is identical, and no if path is different"
   ]
  },
  {
   "cell_type": "code",
   "execution_count": null,
   "id": "1342324a",
   "metadata": {
    "scrolled": false
   },
   "outputs": [],
   "source": [
    "df_union['Equal'].value_counts()"
   ]
  },
  {
   "cell_type": "code",
   "execution_count": null,
   "id": "276fd4b6",
   "metadata": {},
   "outputs": [],
   "source": [
    "# Create a new dataframe to store the extracted rows\n",
    "df_path_notEqual = df_union[df_union['Equal'] == 'no'].copy().reset_index()\n",
    "\n",
    "# Print the new dataframe\n",
    "df_path_notEqual"
   ]
  },
  {
   "cell_type": "code",
   "execution_count": null,
   "id": "da7698d9",
   "metadata": {},
   "outputs": [],
   "source": [
    "#Drop the rows where Path_GraphAligner= NaN\n",
    "df_path_notEqual.dropna(subset=['Path_GraphAligner'], inplace=True)\n",
    "df_path_notEqual.reset_index()\n",
    "df_path_notEqual.drop(['index','index_x','index_y'],axis=1,inplace=True)\n",
    "df_path_notEqual.to_csv(\"GraphAlignerNotEqual.tsv\",sep='\\t')"
   ]
  },
  {
   "cell_type": "code",
   "execution_count": null,
   "id": "2b1ad780",
   "metadata": {
    "scrolled": true
   },
   "outputs": [],
   "source": [
    "df_path_notEqual"
   ]
  },
  {
   "cell_type": "markdown",
   "id": "4be02cd7",
   "metadata": {},
   "source": [
    "## This section checks the queries that do not have any path in Bandage."
   ]
  },
  {
   "cell_type": "code",
   "execution_count": null,
   "id": "0bfcfff4",
   "metadata": {},
   "outputs": [],
   "source": [
    "#Get the queries that are found by Bandage only\n",
    "Bandage_Combined_Query_Path_Compare= Bandage_Combined_Query_Path.drop(['index'], axis=1)\n",
    "Bandage_Combined_Query_Path_Compare\n"
   ]
  },
  {
   "cell_type": "code",
   "execution_count": null,
   "id": "0d4a1ac8",
   "metadata": {},
   "outputs": [],
   "source": [
    "\n",
    "#Check for similar path for the queries\n",
    "df_union['Query_Not_Bandage'] = np.where(df_union['Path_Bandage'].isna(), \n",
    "                                           'yes', 'no')"
   ]
  },
  {
   "cell_type": "code",
   "execution_count": null,
   "id": "25e7ba16",
   "metadata": {},
   "outputs": [],
   "source": [
    "df_union"
   ]
  },
  {
   "cell_type": "code",
   "execution_count": null,
   "id": "fffe4291",
   "metadata": {},
   "outputs": [],
   "source": [
    "df_union['Query_Not_Bandage'].value_counts()"
   ]
  },
  {
   "cell_type": "markdown",
   "id": "96ee6033",
   "metadata": {},
   "source": [
    "## This section checks the queries that do not have any path in GraphAligner."
   ]
  },
  {
   "cell_type": "code",
   "execution_count": null,
   "id": "08949e5f",
   "metadata": {},
   "outputs": [],
   "source": [
    "#Check for similar path for the queries\n",
    "df_union['Query_Not_GraphAligner'] = np.where(df_union['Path_GraphAligner'].isna(), \n",
    "                                           'yes', 'no')"
   ]
  },
  {
   "cell_type": "code",
   "execution_count": null,
   "id": "431e7a53",
   "metadata": {},
   "outputs": [],
   "source": [
    "df_union['Query_Not_GraphAligner'].value_counts()"
   ]
  },
  {
   "cell_type": "code",
   "execution_count": null,
   "id": "54d40ccc",
   "metadata": {},
   "outputs": [],
   "source": [
    "rslt_df_Bandage = df_union[df_union['Query_Not_Bandage']=='yes']"
   ]
  },
  {
   "cell_type": "markdown",
   "id": "86759921",
   "metadata": {},
   "source": [
    "### Print the Queries that are missed by Bandage"
   ]
  },
  {
   "cell_type": "code",
   "execution_count": null,
   "id": "696f2329",
   "metadata": {},
   "outputs": [],
   "source": [
    "rslt_df_Bandage"
   ]
  },
  {
   "cell_type": "markdown",
   "id": "20f3b6ea",
   "metadata": {},
   "source": [
    "### Print the Queries that are missed by GraphAligner"
   ]
  },
  {
   "cell_type": "code",
   "execution_count": null,
   "id": "681a1a74",
   "metadata": {},
   "outputs": [],
   "source": [
    "rslt_df_GraphAligner = df_union[df_union['Query_Not_GraphAligner']=='yes']"
   ]
  },
  {
   "cell_type": "code",
   "execution_count": null,
   "id": "334115bf",
   "metadata": {
    "scrolled": true
   },
   "outputs": [],
   "source": [
    "rslt_df_GraphAligner \n"
   ]
  },
  {
   "cell_type": "code",
   "execution_count": null,
   "id": "1aa5b036",
   "metadata": {},
   "outputs": [],
   "source": [
    "#Save the queries missed by GraphAligner in a .tsv file\n",
    "rslt_df_GraphAligner.to_csv(\"GraphAlignerMissedQueries.tsv\",sep='\\t')"
   ]
  },
  {
   "cell_type": "markdown",
   "id": "7dd2675c",
   "metadata": {},
   "source": [
    "## This section gets the sequences from GraphAligner that differs from Bandage"
   ]
  },
  {
   "cell_type": "code",
   "execution_count": null,
   "id": "7e1d9f63",
   "metadata": {},
   "outputs": [],
   "source": [
    "# Get the query\n",
    "df_GraphAlignerPaths =np.where()"
   ]
  }
 ],
 "metadata": {
  "kernelspec": {
   "display_name": "Python 3 (ipykernel)",
   "language": "python",
   "name": "python3"
  },
  "language_info": {
   "codemirror_mode": {
    "name": "ipython",
    "version": 3
   },
   "file_extension": ".py",
   "mimetype": "text/x-python",
   "name": "python",
   "nbconvert_exporter": "python",
   "pygments_lexer": "ipython3",
   "version": "3.10.9"
  }
 },
 "nbformat": 4,
 "nbformat_minor": 5
}
